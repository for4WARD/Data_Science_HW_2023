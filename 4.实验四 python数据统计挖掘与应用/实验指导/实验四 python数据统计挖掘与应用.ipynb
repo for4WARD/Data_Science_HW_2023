{
 "cells": [
  {
   "cell_type": "markdown",
   "metadata": {},
   "source": [
    "## **一、实验目的**\n",
    "\n",
    "python数据统计挖掘与应用编程练习\n",
    "\n",
    "熟练运用numpy和pandas，本实验首先安装配置好Anaconda以及Python环境，通过代码编写，从而使同学们熟练掌握pandas和numpy库的基本操作，并学会将其运用到实践中。\n"
   ]
  },
  {
   "cell_type": "markdown",
   "metadata": {},
   "source": [
    "## **二、实验原理**"
   ]
  },
  {
   "cell_type": "markdown",
   "metadata": {},
   "source": [
    "### （一）Numpy基础\n",
    "#### 1. np数组的构造\n",
    "最一般的方法是通过`array`来构造："
   ]
  },
  {
   "cell_type": "code",
   "execution_count": 1,
   "metadata": {
    "ExecuteTime": {
     "start_time": "2023-04-13T08:48:32.912103Z",
     "end_time": "2023-04-13T08:48:36.577302Z"
    }
   },
   "outputs": [
    {
     "data": {
      "text/plain": "array([1, 2, 3])"
     },
     "execution_count": 1,
     "metadata": {},
     "output_type": "execute_result"
    }
   ],
   "source": [
    "import numpy as np\n",
    "np.array([1,2,3])"
   ]
  },
  {
   "cell_type": "markdown",
   "metadata": {},
   "source": [
    "下面讨论一些特殊数组的生成方式：\n",
    "\n",
    "【a】等差序列：`np.linspace`, `np.arange`"
   ]
  },
  {
   "cell_type": "code",
   "execution_count": 2,
   "metadata": {
    "ExecuteTime": {
     "start_time": "2023-04-13T08:48:33.088493Z",
     "end_time": "2023-04-13T08:48:36.578662Z"
    }
   },
   "outputs": [
    {
     "data": {
      "text/plain": "array([1. , 1.4, 1.8, 2.2, 2.6, 3. , 3.4, 3.8, 4.2, 4.6, 5. ])"
     },
     "execution_count": 2,
     "metadata": {},
     "output_type": "execute_result"
    }
   ],
   "source": [
    "np.linspace(1,5,11) # 起始、终止（包含）、样本个数"
   ]
  },
  {
   "cell_type": "code",
   "execution_count": 3,
   "metadata": {
    "ExecuteTime": {
     "start_time": "2023-04-13T08:48:33.103568Z",
     "end_time": "2023-04-13T08:48:36.578662Z"
    }
   },
   "outputs": [
    {
     "data": {
      "text/plain": "array([1, 3])"
     },
     "execution_count": 3,
     "metadata": {},
     "output_type": "execute_result"
    }
   ],
   "source": [
    "np.arange(1,5,2) # 起始、终止（不包含）、步长"
   ]
  },
  {
   "cell_type": "markdown",
   "metadata": {},
   "source": [
    "【b】特殊矩阵：`zeros`, `eye`, `full`"
   ]
  },
  {
   "cell_type": "code",
   "execution_count": 4,
   "metadata": {
    "ExecuteTime": {
     "start_time": "2023-04-13T08:48:33.118971Z",
     "end_time": "2023-04-13T08:48:36.578662Z"
    }
   },
   "outputs": [
    {
     "data": {
      "text/plain": "array([[0., 0., 0.],\n       [0., 0., 0.]])"
     },
     "execution_count": 4,
     "metadata": {},
     "output_type": "execute_result"
    }
   ],
   "source": [
    "np.zeros((2,3)) # 传入元组表示各维度大小"
   ]
  },
  {
   "cell_type": "code",
   "execution_count": 5,
   "metadata": {
    "ExecuteTime": {
     "start_time": "2023-04-13T08:48:33.136358Z",
     "end_time": "2023-04-13T08:48:36.578662Z"
    }
   },
   "outputs": [
    {
     "data": {
      "text/plain": "array([[1., 0., 0.],\n       [0., 1., 0.],\n       [0., 0., 1.]])"
     },
     "execution_count": 5,
     "metadata": {},
     "output_type": "execute_result"
    }
   ],
   "source": [
    "np.eye(3) # 3*3的单位矩阵"
   ]
  },
  {
   "cell_type": "markdown",
   "metadata": {},
   "source": [
    "【c】随机矩阵：`np.random`\n",
    "\n",
    "最常用的随机生成函数为`rand`, `randn`, `randint`, `choice`，它们分别表示0-1均匀分布的随机数组、标准正态的随机数组、随机整数组和随机列表抽样："
   ]
  },
  {
   "cell_type": "code",
   "execution_count": 6,
   "metadata": {
    "ExecuteTime": {
     "start_time": "2023-04-13T08:48:33.150178Z",
     "end_time": "2023-04-13T08:48:36.578662Z"
    }
   },
   "outputs": [
    {
     "data": {
      "text/plain": "array([13.37552229, 11.63726883, 10.9764975 ])"
     },
     "execution_count": 6,
     "metadata": {},
     "output_type": "execute_result"
    }
   ],
   "source": [
    "np.random.uniform(5, 15, 3) # 从5到15随机生成3个数"
   ]
  },
  {
   "cell_type": "markdown",
   "metadata": {},
   "source": [
    "`randn`生成了`N(0,I)`的标准正态分布："
   ]
  },
  {
   "cell_type": "code",
   "execution_count": 7,
   "metadata": {
    "ExecuteTime": {
     "start_time": "2023-04-13T08:48:33.166727Z",
     "end_time": "2023-04-13T08:48:36.578662Z"
    }
   },
   "outputs": [
    {
     "data": {
      "text/plain": "array([-0.23172579, -0.59263889, -1.16871454])"
     },
     "execution_count": 7,
     "metadata": {},
     "output_type": "execute_result"
    }
   ],
   "source": [
    "np.random.randn(3)"
   ]
  },
  {
   "cell_type": "code",
   "execution_count": 8,
   "metadata": {
    "ExecuteTime": {
     "start_time": "2023-04-13T08:48:33.181373Z",
     "end_time": "2023-04-13T08:48:36.579970Z"
    }
   },
   "outputs": [
    {
     "data": {
      "text/plain": "array([[-0.22388032,  0.39571588],\n       [-0.79573199, -0.16026703]])"
     },
     "execution_count": 8,
     "metadata": {},
     "output_type": "execute_result"
    }
   ],
   "source": [
    "np.random.randn(2, 2)"
   ]
  },
  {
   "cell_type": "markdown",
   "metadata": {},
   "source": [
    "对于服从方差为$\\sigma^2$均值为$\\mu$的一元正态分布可以如下生成："
   ]
  },
  {
   "cell_type": "code",
   "execution_count": 9,
   "metadata": {
    "ExecuteTime": {
     "start_time": "2023-04-13T08:48:33.197008Z",
     "end_time": "2023-04-13T08:48:36.579970Z"
    }
   },
   "outputs": [
    {
     "data": {
      "text/plain": "array([2.30626737, 4.92547701, 1.49878444])"
     },
     "execution_count": 9,
     "metadata": {},
     "output_type": "execute_result"
    }
   ],
   "source": [
    "sigma, mu = 2.5, 3\n",
    "mu + np.random.randn(3) * sigma"
   ]
  },
  {
   "cell_type": "markdown",
   "metadata": {},
   "source": [
    "同样的，也可选择从已有函数生成："
   ]
  },
  {
   "cell_type": "code",
   "execution_count": 10,
   "metadata": {
    "ExecuteTime": {
     "start_time": "2023-04-13T08:48:33.213490Z",
     "end_time": "2023-04-13T08:48:36.579970Z"
    }
   },
   "outputs": [
    {
     "data": {
      "text/plain": "array([ 3.42868576,  5.75615446, -0.32206542])"
     },
     "execution_count": 10,
     "metadata": {},
     "output_type": "execute_result"
    }
   ],
   "source": [
    "np.random.normal(3, 2.5, 3)"
   ]
  },
  {
   "cell_type": "markdown",
   "metadata": {},
   "source": [
    "`randint`可以指定生成随机整数的最小值最大值（不包含）和维度大小："
   ]
  },
  {
   "cell_type": "code",
   "execution_count": 11,
   "metadata": {
    "ExecuteTime": {
     "start_time": "2023-04-13T08:48:33.229154Z",
     "end_time": "2023-04-13T08:48:36.579970Z"
    }
   },
   "outputs": [
    {
     "data": {
      "text/plain": "array([[14,  9],\n       [12,  8]])"
     },
     "execution_count": 11,
     "metadata": {},
     "output_type": "execute_result"
    }
   ],
   "source": [
    "low, high, size = 5, 15, (2,2) # 生成5到14的随机整数\n",
    "np.random.randint(low, high, size)"
   ]
  },
  {
   "cell_type": "markdown",
   "metadata": {},
   "source": [
    "`choice`可以从给定的列表中，以一定概率和方式抽取结果，当不指定概率时为均匀采样，默认抽取方式为有放回抽样："
   ]
  },
  {
   "cell_type": "code",
   "execution_count": 12,
   "metadata": {
    "ExecuteTime": {
     "start_time": "2023-04-13T08:48:33.244582Z",
     "end_time": "2023-04-13T08:48:36.580981Z"
    }
   },
   "outputs": [
    {
     "data": {
      "text/plain": "array(['b', 'c'], dtype='<U1')"
     },
     "execution_count": 12,
     "metadata": {},
     "output_type": "execute_result"
    }
   ],
   "source": [
    "my_list = ['a', 'b', 'c', 'd']\n",
    "np.random.choice(my_list, 2, replace=False, p=[0.1, 0.7, 0.1 ,0.1])"
   ]
  },
  {
   "cell_type": "code",
   "execution_count": 13,
   "metadata": {
    "ExecuteTime": {
     "start_time": "2023-04-13T08:48:33.260961Z",
     "end_time": "2023-04-13T08:48:36.580981Z"
    }
   },
   "outputs": [
    {
     "data": {
      "text/plain": "array([['a', 'a', 'd'],\n       ['c', 'd', 'b'],\n       ['a', 'a', 'a']], dtype='<U1')"
     },
     "execution_count": 13,
     "metadata": {},
     "output_type": "execute_result"
    }
   ],
   "source": [
    "np.random.choice(my_list, (3,3))"
   ]
  },
  {
   "cell_type": "markdown",
   "metadata": {},
   "source": [
    "当返回的元素个数与原列表相同时，不放回抽样等价于使用`permutation`函数，即打散原列表："
   ]
  },
  {
   "cell_type": "code",
   "execution_count": 14,
   "metadata": {
    "ExecuteTime": {
     "start_time": "2023-04-13T08:48:33.283163Z",
     "end_time": "2023-04-13T08:48:36.580981Z"
    }
   },
   "outputs": [
    {
     "data": {
      "text/plain": "array(['c', 'd', 'a', 'b'], dtype='<U1')"
     },
     "execution_count": 14,
     "metadata": {},
     "output_type": "execute_result"
    }
   ],
   "source": [
    "np.random.permutation(my_list)"
   ]
  },
  {
   "cell_type": "markdown",
   "metadata": {},
   "source": [
    "最后，需要提到的是随机种子，它能够固定随机数的输出结果："
   ]
  },
  {
   "cell_type": "code",
   "execution_count": 15,
   "metadata": {
    "ExecuteTime": {
     "start_time": "2023-04-13T08:48:33.308301Z",
     "end_time": "2023-04-13T08:48:36.580981Z"
    }
   },
   "outputs": [
    {
     "data": {
      "text/plain": "0.5488135039273248"
     },
     "execution_count": 15,
     "metadata": {},
     "output_type": "execute_result"
    }
   ],
   "source": [
    "np.random.seed(0)\n",
    "np.random.rand()"
   ]
  },
  {
   "cell_type": "code",
   "execution_count": 16,
   "metadata": {
    "ExecuteTime": {
     "start_time": "2023-04-13T08:48:33.323176Z",
     "end_time": "2023-04-13T08:48:36.581980Z"
    }
   },
   "outputs": [
    {
     "data": {
      "text/plain": "0.5488135039273248"
     },
     "execution_count": 16,
     "metadata": {},
     "output_type": "execute_result"
    }
   ],
   "source": [
    "np.random.seed(0)\n",
    "np.random.rand()"
   ]
  },
  {
   "cell_type": "markdown",
   "metadata": {},
   "source": [
    "#### 2. np数组的变形与合并\n",
    "【a】转置：`T`"
   ]
  },
  {
   "cell_type": "code",
   "execution_count": 17,
   "metadata": {
    "ExecuteTime": {
     "start_time": "2023-04-13T08:48:33.338958Z",
     "end_time": "2023-04-13T08:48:36.581980Z"
    }
   },
   "outputs": [
    {
     "data": {
      "text/plain": "array([[0., 0.],\n       [0., 0.],\n       [0., 0.]])"
     },
     "execution_count": 17,
     "metadata": {},
     "output_type": "execute_result"
    }
   ],
   "source": [
    "np.zeros((2,3)).T"
   ]
  },
  {
   "cell_type": "markdown",
   "metadata": {},
   "source": [
    "【b】合并操作：`r_`, `c_`\n",
    "\n",
    "对于二维数组而言，`r_`和`c_`分别表示上下合并和左右合并："
   ]
  },
  {
   "cell_type": "code",
   "execution_count": 18,
   "metadata": {
    "ExecuteTime": {
     "start_time": "2023-04-13T08:48:33.353737Z",
     "end_time": "2023-04-13T08:48:36.581980Z"
    }
   },
   "outputs": [
    {
     "data": {
      "text/plain": "array([[0., 0., 0.],\n       [0., 0., 0.],\n       [0., 0., 0.],\n       [0., 0., 0.]])"
     },
     "execution_count": 18,
     "metadata": {},
     "output_type": "execute_result"
    }
   ],
   "source": [
    "np.r_[np.zeros((2,3)),np.zeros((2,3))]"
   ]
  },
  {
   "cell_type": "code",
   "execution_count": 19,
   "metadata": {
    "ExecuteTime": {
     "start_time": "2023-04-13T08:48:33.370336Z",
     "end_time": "2023-04-13T08:48:36.581980Z"
    }
   },
   "outputs": [
    {
     "data": {
      "text/plain": "array([[0., 0., 0., 0., 0., 0.],\n       [0., 0., 0., 0., 0., 0.]])"
     },
     "execution_count": 19,
     "metadata": {},
     "output_type": "execute_result"
    }
   ],
   "source": [
    "np.c_[np.zeros((2,3)),np.zeros((2,3))]"
   ]
  },
  {
   "cell_type": "markdown",
   "metadata": {},
   "source": [
    "【c】维度变换：`reshape`\n",
    "\n",
    "`reshape`能够帮助用户把原数组按照新的维度重新排列。在使用时有两种模式，分别为`C`模式和`F`模式，分别以逐行和逐列的顺序进行填充读取。"
   ]
  },
  {
   "cell_type": "code",
   "execution_count": 20,
   "metadata": {
    "ExecuteTime": {
     "start_time": "2023-04-13T08:48:33.384601Z",
     "end_time": "2023-04-13T08:48:36.581980Z"
    }
   },
   "outputs": [
    {
     "data": {
      "text/plain": "array([[0, 1, 2, 3],\n       [4, 5, 6, 7]])"
     },
     "execution_count": 20,
     "metadata": {},
     "output_type": "execute_result"
    }
   ],
   "source": [
    "target = np.arange(8).reshape(2,4)\n",
    "target"
   ]
  },
  {
   "cell_type": "code",
   "execution_count": 21,
   "metadata": {
    "ExecuteTime": {
     "start_time": "2023-04-13T08:48:33.400915Z",
     "end_time": "2023-04-13T08:48:36.582979Z"
    }
   },
   "outputs": [
    {
     "data": {
      "text/plain": "array([[0, 1],\n       [2, 3],\n       [4, 5],\n       [6, 7]])"
     },
     "execution_count": 21,
     "metadata": {},
     "output_type": "execute_result"
    }
   ],
   "source": [
    "target.reshape((4,2), order='C') # 按照行读取和填充"
   ]
  },
  {
   "cell_type": "code",
   "execution_count": 22,
   "metadata": {
    "ExecuteTime": {
     "start_time": "2023-04-13T08:48:33.417115Z",
     "end_time": "2023-04-13T08:48:36.582979Z"
    }
   },
   "outputs": [
    {
     "data": {
      "text/plain": "array([[0, 2],\n       [4, 6],\n       [1, 3],\n       [5, 7]])"
     },
     "execution_count": 22,
     "metadata": {},
     "output_type": "execute_result"
    }
   ],
   "source": [
    "target.reshape((4,2), order='F') # 按照列读取和填充"
   ]
  },
  {
   "cell_type": "markdown",
   "metadata": {},
   "source": [
    "特别地，由于被调用数组的大小是确定的，`reshape`允许有一个维度存在空缺，此时只需填充-1即可："
   ]
  },
  {
   "cell_type": "code",
   "execution_count": 23,
   "metadata": {
    "ExecuteTime": {
     "start_time": "2023-04-13T08:48:33.431079Z",
     "end_time": "2023-04-13T08:48:36.582979Z"
    }
   },
   "outputs": [
    {
     "data": {
      "text/plain": "array([[0, 1],\n       [2, 3],\n       [4, 5],\n       [6, 7]])"
     },
     "execution_count": 23,
     "metadata": {},
     "output_type": "execute_result"
    }
   ],
   "source": [
    "target.reshape((4,-1))"
   ]
  },
  {
   "cell_type": "markdown",
   "metadata": {},
   "source": [
    "下面将`n*1`大小的数组转为1维数组的操作是经常使用的："
   ]
  },
  {
   "cell_type": "code",
   "execution_count": 24,
   "metadata": {
    "ExecuteTime": {
     "start_time": "2023-04-13T08:48:33.448083Z",
     "end_time": "2023-04-13T08:48:36.582979Z"
    }
   },
   "outputs": [
    {
     "data": {
      "text/plain": "array([[1.],\n       [1.],\n       [1.]])"
     },
     "execution_count": 24,
     "metadata": {},
     "output_type": "execute_result"
    }
   ],
   "source": [
    "target = np.ones((3,1))\n",
    "target"
   ]
  },
  {
   "cell_type": "code",
   "execution_count": 25,
   "metadata": {
    "ExecuteTime": {
     "start_time": "2023-04-13T08:48:33.465252Z",
     "end_time": "2023-04-13T08:48:36.582979Z"
    }
   },
   "outputs": [
    {
     "data": {
      "text/plain": "array([1., 1., 1.])"
     },
     "execution_count": 25,
     "metadata": {},
     "output_type": "execute_result"
    }
   ],
   "source": [
    "target.reshape(-1)"
   ]
  },
  {
   "cell_type": "markdown",
   "metadata": {},
   "source": [
    "#### 3. np数组的切片与索引\n",
    "数组的切片模式支持使用`slice`类型的`start:end:step`切片，还可以直接传入列表指定某个维度的索引进行切片："
   ]
  },
  {
   "cell_type": "code",
   "execution_count": 26,
   "metadata": {
    "ExecuteTime": {
     "start_time": "2023-04-13T08:48:33.479382Z",
     "end_time": "2023-04-13T08:48:36.594773Z"
    }
   },
   "outputs": [
    {
     "data": {
      "text/plain": "array([[0, 1, 2],\n       [3, 4, 5],\n       [6, 7, 8]])"
     },
     "execution_count": 26,
     "metadata": {},
     "output_type": "execute_result"
    }
   ],
   "source": [
    "target = np.arange(9).reshape(3,3)\n",
    "target"
   ]
  },
  {
   "cell_type": "code",
   "execution_count": 27,
   "metadata": {
    "ExecuteTime": {
     "start_time": "2023-04-13T08:48:33.493748Z",
     "end_time": "2023-04-13T08:48:36.595776Z"
    }
   },
   "outputs": [
    {
     "data": {
      "text/plain": "array([[0, 2],\n       [3, 5]])"
     },
     "execution_count": 27,
     "metadata": {},
     "output_type": "execute_result"
    }
   ],
   "source": [
    "target[:-1, [0,2]]  # 取出第0行到第-1行的第0列和第2列"
   ]
  },
  {
   "cell_type": "code",
   "execution_count": 28,
   "outputs": [
    {
     "data": {
      "text/plain": "array([[0, 1, 2],\n       [3, 4, 5],\n       [6, 7, 8]])"
     },
     "execution_count": 28,
     "metadata": {},
     "output_type": "execute_result"
    }
   ],
   "source": [
    "target"
   ],
   "metadata": {
    "collapsed": false,
    "ExecuteTime": {
     "start_time": "2023-04-13T08:48:33.511761Z",
     "end_time": "2023-04-13T08:48:36.596770Z"
    }
   }
  },
  {
   "cell_type": "markdown",
   "metadata": {},
   "source": [
    "此外，还可以利用`np.ix_`在对应的维度上使用布尔索引，但此时不能使用`slice`切片："
   ]
  },
  {
   "cell_type": "code",
   "execution_count": 29,
   "metadata": {
    "ExecuteTime": {
     "start_time": "2023-04-13T08:48:33.525289Z",
     "end_time": "2023-04-13T08:48:36.596770Z"
    }
   },
   "outputs": [
    {
     "data": {
      "text/plain": "array([[0, 2],\n       [6, 8]])"
     },
     "execution_count": 29,
     "metadata": {},
     "output_type": "execute_result"
    }
   ],
   "source": [
    "target[np.ix_([True, False, True], [True, False, True])]"
   ]
  },
  {
   "cell_type": "code",
   "execution_count": 30,
   "metadata": {
    "ExecuteTime": {
     "start_time": "2023-04-13T08:48:33.542590Z",
     "end_time": "2023-04-13T08:48:36.596770Z"
    }
   },
   "outputs": [
    {
     "data": {
      "text/plain": "array([[3, 5],\n       [6, 8]])"
     },
     "execution_count": 30,
     "metadata": {},
     "output_type": "execute_result"
    }
   ],
   "source": [
    "target[np.ix_([1,2], [True, False, True])]"
   ]
  },
  {
   "cell_type": "markdown",
   "metadata": {},
   "source": [
    "当数组维度为1维时，可以直接进行布尔索引，而无需`np.ix_`："
   ]
  },
  {
   "cell_type": "code",
   "execution_count": 31,
   "metadata": {
    "ExecuteTime": {
     "start_time": "2023-04-13T08:48:33.557593Z",
     "end_time": "2023-04-13T08:48:36.597776Z"
    }
   },
   "outputs": [
    {
     "data": {
      "text/plain": "array([0, 2, 4, 6, 8])"
     },
     "execution_count": 31,
     "metadata": {},
     "output_type": "execute_result"
    }
   ],
   "source": [
    "new = target.reshape(-1)\n",
    "new[new%2==0]"
   ]
  },
  {
   "cell_type": "markdown",
   "metadata": {},
   "source": [
    "#### 4. 常用函数\n",
    "为了简单起见，这里假设下述函数输入的数组都是一维的。\n",
    "\n",
    "【a】`where`\n",
    "\n",
    "`where`是一种条件函数，可以指定满足条件与不满足条件位置对应的填充值："
   ]
  },
  {
   "cell_type": "code",
   "execution_count": 32,
   "metadata": {
    "ExecuteTime": {
     "start_time": "2023-04-13T08:48:33.571288Z",
     "end_time": "2023-04-13T08:48:36.597776Z"
    }
   },
   "outputs": [
    {
     "data": {
      "text/plain": "array([5, 1, 5, 5])"
     },
     "execution_count": 32,
     "metadata": {},
     "output_type": "execute_result"
    }
   ],
   "source": [
    "a = np.array([-1,1,-1,0])\n",
    "np.where(a>0, a, 5) # 对应位置为True时填充a对应元素，否则填充5"
   ]
  },
  {
   "cell_type": "markdown",
   "metadata": {},
   "source": [
    "【b】`nonzero`, `argmax`, `argmin`\n",
    "\n",
    "这三个函数返回的都是索引，`nonzero`返回非零数的索引，`argmax`, `argmin`分别返回最大和最小数的索引："
   ]
  },
  {
   "cell_type": "code",
   "execution_count": 33,
   "metadata": {
    "ExecuteTime": {
     "start_time": "2023-04-13T08:48:33.587402Z",
     "end_time": "2023-04-13T08:48:36.597776Z"
    }
   },
   "outputs": [
    {
     "data": {
      "text/plain": "(array([0, 1, 3, 4, 5], dtype=int64),)"
     },
     "execution_count": 33,
     "metadata": {},
     "output_type": "execute_result"
    }
   ],
   "source": [
    "a = np.array([-2,-5,0,1,3,-1])\n",
    "np.nonzero(a)"
   ]
  },
  {
   "cell_type": "code",
   "execution_count": 34,
   "metadata": {
    "ExecuteTime": {
     "start_time": "2023-04-13T08:48:33.601552Z",
     "end_time": "2023-04-13T08:48:36.597776Z"
    }
   },
   "outputs": [
    {
     "data": {
      "text/plain": "4"
     },
     "execution_count": 34,
     "metadata": {},
     "output_type": "execute_result"
    }
   ],
   "source": [
    "a.argmax()"
   ]
  },
  {
   "cell_type": "code",
   "execution_count": 35,
   "metadata": {
    "ExecuteTime": {
     "start_time": "2023-04-13T08:48:33.619363Z",
     "end_time": "2023-04-13T08:48:36.597776Z"
    }
   },
   "outputs": [
    {
     "data": {
      "text/plain": "1"
     },
     "execution_count": 35,
     "metadata": {},
     "output_type": "execute_result"
    }
   ],
   "source": [
    "a.argmin()"
   ]
  },
  {
   "cell_type": "markdown",
   "metadata": {},
   "source": [
    "【c】`any`, `all`\n",
    "\n",
    "`any`指当序列至少 **存在一个** `True`或非零元素时返回`True`，否则返回`False`\n",
    "\n",
    "`all`指当序列元素 **全为** `True`或非零元素时返回`True`，否则返回`False`"
   ]
  },
  {
   "cell_type": "code",
   "execution_count": 36,
   "metadata": {
    "ExecuteTime": {
     "start_time": "2023-04-13T08:48:33.635018Z",
     "end_time": "2023-04-13T08:48:36.598771Z"
    }
   },
   "outputs": [
    {
     "data": {
      "text/plain": "True"
     },
     "execution_count": 36,
     "metadata": {},
     "output_type": "execute_result"
    }
   ],
   "source": [
    "a = np.array([0,1])\n",
    "a.any()"
   ]
  },
  {
   "cell_type": "code",
   "execution_count": 37,
   "metadata": {
    "ExecuteTime": {
     "start_time": "2023-04-13T08:48:33.649421Z",
     "end_time": "2023-04-13T08:48:36.598771Z"
    }
   },
   "outputs": [
    {
     "data": {
      "text/plain": "False"
     },
     "execution_count": 37,
     "metadata": {},
     "output_type": "execute_result"
    }
   ],
   "source": [
    "a.all()"
   ]
  },
  {
   "cell_type": "markdown",
   "metadata": {},
   "source": [
    "【e】 统计函数\n",
    "\n",
    "常用的统计函数包括`max, min, mean, median, std, var, sum, quantile`，其中分位数`quantile`计算是全局方法，因此不能通过`array.quantile`的方法调用："
   ]
  },
  {
   "cell_type": "code",
   "execution_count": 38,
   "metadata": {
    "ExecuteTime": {
     "start_time": "2023-04-13T08:48:33.665424Z",
     "end_time": "2023-04-13T08:48:36.598771Z"
    }
   },
   "outputs": [
    {
     "data": {
      "text/plain": "array([0, 1, 2, 3, 4])"
     },
     "execution_count": 38,
     "metadata": {},
     "output_type": "execute_result"
    }
   ],
   "source": [
    "target = np.arange(5)\n",
    "target"
   ]
  },
  {
   "cell_type": "code",
   "execution_count": 39,
   "metadata": {
    "ExecuteTime": {
     "start_time": "2023-04-13T08:48:33.681417Z",
     "end_time": "2023-04-13T08:48:36.598771Z"
    }
   },
   "outputs": [
    {
     "data": {
      "text/plain": "4"
     },
     "execution_count": 39,
     "metadata": {},
     "output_type": "execute_result"
    }
   ],
   "source": [
    "target.max()"
   ]
  },
  {
   "cell_type": "markdown",
   "metadata": {},
   "source": [
    "但是对于含有缺失值的数组，它们返回的结果也是缺失值，如果需要略过缺失值，必须使用`nan*`类型的函数，上述的几个统计函数都有对应的`nan*`函数。"
   ]
  },
  {
   "cell_type": "code",
   "execution_count": 40,
   "metadata": {
    "ExecuteTime": {
     "start_time": "2023-04-13T08:48:33.699196Z",
     "end_time": "2023-04-13T08:48:36.598771Z"
    }
   },
   "outputs": [
    {
     "data": {
      "text/plain": "array([ 1.,  2., nan])"
     },
     "execution_count": 40,
     "metadata": {},
     "output_type": "execute_result"
    }
   ],
   "source": [
    "target = np.array([1, 2, np.nan])\n",
    "target"
   ]
  },
  {
   "cell_type": "code",
   "execution_count": 41,
   "metadata": {
    "ExecuteTime": {
     "start_time": "2023-04-13T08:48:33.724308Z",
     "end_time": "2023-04-13T08:48:36.598771Z"
    }
   },
   "outputs": [
    {
     "data": {
      "text/plain": "nan"
     },
     "execution_count": 41,
     "metadata": {},
     "output_type": "execute_result"
    }
   ],
   "source": [
    "target.max()"
   ]
  },
  {
   "cell_type": "code",
   "execution_count": 42,
   "metadata": {
    "ExecuteTime": {
     "start_time": "2023-04-13T08:48:33.745993Z",
     "end_time": "2023-04-13T08:48:36.600037Z"
    }
   },
   "outputs": [
    {
     "data": {
      "text/plain": "2.0"
     },
     "execution_count": 42,
     "metadata": {},
     "output_type": "execute_result"
    }
   ],
   "source": [
    "np.nanmax(target)"
   ]
  },
  {
   "cell_type": "markdown",
   "metadata": {},
   "source": [
    "最后，需要说明二维`Numpy`数组中统计函数的`axis`参数，它能够进行某一个维度下的统计特征计算，当`axis=0`时结果为列的统计指标，当`axis=1`时结果为行的统计指标："
   ]
  },
  {
   "cell_type": "code",
   "execution_count": 43,
   "metadata": {
    "ExecuteTime": {
     "start_time": "2023-04-13T08:48:33.761026Z",
     "end_time": "2023-04-13T08:48:36.600037Z"
    }
   },
   "outputs": [
    {
     "data": {
      "text/plain": "array([[1, 2, 3],\n       [4, 5, 6],\n       [7, 8, 9]])"
     },
     "execution_count": 43,
     "metadata": {},
     "output_type": "execute_result"
    }
   ],
   "source": [
    "target = np.arange(1,10).reshape(3,-1)\n",
    "target"
   ]
  },
  {
   "cell_type": "code",
   "execution_count": 44,
   "metadata": {
    "ExecuteTime": {
     "start_time": "2023-04-13T08:48:33.776522Z",
     "end_time": "2023-04-13T08:48:36.602047Z"
    }
   },
   "outputs": [
    {
     "data": {
      "text/plain": "array([12, 15, 18])"
     },
     "execution_count": 44,
     "metadata": {},
     "output_type": "execute_result"
    }
   ],
   "source": [
    "target.sum(axis=0)"
   ]
  },
  {
   "cell_type": "code",
   "execution_count": 45,
   "metadata": {
    "ExecuteTime": {
     "start_time": "2023-04-13T08:48:33.791525Z",
     "end_time": "2023-04-13T08:48:36.602047Z"
    }
   },
   "outputs": [
    {
     "data": {
      "text/plain": "array([ 6, 15, 24])"
     },
     "execution_count": 45,
     "metadata": {},
     "output_type": "execute_result"
    }
   ],
   "source": [
    "target.sum(axis=1)"
   ]
  },
  {
   "cell_type": "markdown",
   "metadata": {},
   "source": [
    "### （二）Pandas基础"
   ]
  },
  {
   "cell_type": "code",
   "execution_count": 46,
   "metadata": {
    "ExecuteTime": {
     "start_time": "2023-04-13T08:48:33.806170Z",
     "end_time": "2023-04-13T08:48:36.607684Z"
    }
   },
   "outputs": [],
   "source": [
    "import numpy as np\n",
    "import pandas as pd"
   ]
  },
  {
   "cell_type": "markdown",
   "metadata": {},
   "source": [
    "在开始学习前，请保证`pandas`的版本号不低于 1.2.0 版本，否则请务必升级！"
   ]
  },
  {
   "cell_type": "code",
   "execution_count": 47,
   "metadata": {
    "ExecuteTime": {
     "start_time": "2023-04-13T08:48:34.428250Z",
     "end_time": "2023-04-13T08:48:36.607684Z"
    }
   },
   "outputs": [
    {
     "data": {
      "text/plain": "'1.5.2'"
     },
     "execution_count": 47,
     "metadata": {},
     "output_type": "execute_result"
    }
   ],
   "source": [
    "pd.__version__"
   ]
  },
  {
   "cell_type": "markdown",
   "metadata": {},
   "source": [
    "#### 1、文件的读取和写入\n",
    "##### (1). 文件读取"
   ]
  },
  {
   "cell_type": "markdown",
   "metadata": {},
   "source": [
    "`pandas`可以读取的文件格式有很多，这里主要介绍读取`csv, txt`文件。"
   ]
  },
  {
   "cell_type": "code",
   "execution_count": 48,
   "metadata": {
    "ExecuteTime": {
     "start_time": "2023-04-13T08:48:34.443523Z",
     "end_time": "2023-04-13T08:48:36.607684Z"
    }
   },
   "outputs": [
    {
     "data": {
      "text/plain": "   col1 col2  col3    col4      col5\n0     2    a   1.4   apple  2020/1/1\n1     3    b   3.4  banana  2020/1/2\n2     6    c   2.5  orange  2020/1/5\n3     5    d   3.2   lemon  2020/1/7",
      "text/html": "<div>\n<style scoped>\n    .dataframe tbody tr th:only-of-type {\n        vertical-align: middle;\n    }\n\n    .dataframe tbody tr th {\n        vertical-align: top;\n    }\n\n    .dataframe thead th {\n        text-align: right;\n    }\n</style>\n<table border=\"1\" class=\"dataframe\">\n  <thead>\n    <tr style=\"text-align: right;\">\n      <th></th>\n      <th>col1</th>\n      <th>col2</th>\n      <th>col3</th>\n      <th>col4</th>\n      <th>col5</th>\n    </tr>\n  </thead>\n  <tbody>\n    <tr>\n      <th>0</th>\n      <td>2</td>\n      <td>a</td>\n      <td>1.4</td>\n      <td>apple</td>\n      <td>2020/1/1</td>\n    </tr>\n    <tr>\n      <th>1</th>\n      <td>3</td>\n      <td>b</td>\n      <td>3.4</td>\n      <td>banana</td>\n      <td>2020/1/2</td>\n    </tr>\n    <tr>\n      <th>2</th>\n      <td>6</td>\n      <td>c</td>\n      <td>2.5</td>\n      <td>orange</td>\n      <td>2020/1/5</td>\n    </tr>\n    <tr>\n      <th>3</th>\n      <td>5</td>\n      <td>d</td>\n      <td>3.2</td>\n      <td>lemon</td>\n      <td>2020/1/7</td>\n    </tr>\n  </tbody>\n</table>\n</div>"
     },
     "execution_count": 48,
     "metadata": {},
     "output_type": "execute_result"
    }
   ],
   "source": [
    "df_csv = pd.read_csv('../data/my_csv.csv')\n",
    "df_csv"
   ]
  },
  {
   "cell_type": "code",
   "execution_count": 49,
   "metadata": {
    "ExecuteTime": {
     "start_time": "2023-04-13T08:48:34.476042Z",
     "end_time": "2023-04-13T08:48:36.608683Z"
    }
   },
   "outputs": [
    {
     "data": {
      "text/plain": "   col1 col2  col3             col4\n0     2    a   1.4   apple 2020/1/1\n1     3    b   3.4  banana 2020/1/2\n2     6    c   2.5  orange 2020/1/5\n3     5    d   3.2   lemon 2020/1/7",
      "text/html": "<div>\n<style scoped>\n    .dataframe tbody tr th:only-of-type {\n        vertical-align: middle;\n    }\n\n    .dataframe tbody tr th {\n        vertical-align: top;\n    }\n\n    .dataframe thead th {\n        text-align: right;\n    }\n</style>\n<table border=\"1\" class=\"dataframe\">\n  <thead>\n    <tr style=\"text-align: right;\">\n      <th></th>\n      <th>col1</th>\n      <th>col2</th>\n      <th>col3</th>\n      <th>col4</th>\n    </tr>\n  </thead>\n  <tbody>\n    <tr>\n      <th>0</th>\n      <td>2</td>\n      <td>a</td>\n      <td>1.4</td>\n      <td>apple 2020/1/1</td>\n    </tr>\n    <tr>\n      <th>1</th>\n      <td>3</td>\n      <td>b</td>\n      <td>3.4</td>\n      <td>banana 2020/1/2</td>\n    </tr>\n    <tr>\n      <th>2</th>\n      <td>6</td>\n      <td>c</td>\n      <td>2.5</td>\n      <td>orange 2020/1/5</td>\n    </tr>\n    <tr>\n      <th>3</th>\n      <td>5</td>\n      <td>d</td>\n      <td>3.2</td>\n      <td>lemon 2020/1/7</td>\n    </tr>\n  </tbody>\n</table>\n</div>"
     },
     "execution_count": 49,
     "metadata": {},
     "output_type": "execute_result"
    }
   ],
   "source": [
    "df_txt = pd.read_table('../data/my_table.txt')\n",
    "df_txt"
   ]
  },
  {
   "cell_type": "markdown",
   "metadata": {},
   "source": [
    "这里有一些常用的公共参数，`header=None`表示第一行不作为列名，`index_col`表示把某一列或几列作为索引，`usecols`表示读取列的集合，默认读取所有的列，`parse_dates`表示需要转化为时间的列，`nrows`表示读取的数据行数。上面这些参数在上述的三个函数里都可以使用。"
   ]
  },
  {
   "cell_type": "code",
   "execution_count": 50,
   "metadata": {
    "ExecuteTime": {
     "start_time": "2023-04-13T08:48:34.505396Z",
     "end_time": "2023-04-13T08:48:36.608683Z"
    }
   },
   "outputs": [
    {
     "data": {
      "text/plain": "      0     1     2                3\n0  col1  col2  col3             col4\n1     2     a   1.4   apple 2020/1/1\n2     3     b   3.4  banana 2020/1/2\n3     6     c   2.5  orange 2020/1/5\n4     5     d   3.2   lemon 2020/1/7",
      "text/html": "<div>\n<style scoped>\n    .dataframe tbody tr th:only-of-type {\n        vertical-align: middle;\n    }\n\n    .dataframe tbody tr th {\n        vertical-align: top;\n    }\n\n    .dataframe thead th {\n        text-align: right;\n    }\n</style>\n<table border=\"1\" class=\"dataframe\">\n  <thead>\n    <tr style=\"text-align: right;\">\n      <th></th>\n      <th>0</th>\n      <th>1</th>\n      <th>2</th>\n      <th>3</th>\n    </tr>\n  </thead>\n  <tbody>\n    <tr>\n      <th>0</th>\n      <td>col1</td>\n      <td>col2</td>\n      <td>col3</td>\n      <td>col4</td>\n    </tr>\n    <tr>\n      <th>1</th>\n      <td>2</td>\n      <td>a</td>\n      <td>1.4</td>\n      <td>apple 2020/1/1</td>\n    </tr>\n    <tr>\n      <th>2</th>\n      <td>3</td>\n      <td>b</td>\n      <td>3.4</td>\n      <td>banana 2020/1/2</td>\n    </tr>\n    <tr>\n      <th>3</th>\n      <td>6</td>\n      <td>c</td>\n      <td>2.5</td>\n      <td>orange 2020/1/5</td>\n    </tr>\n    <tr>\n      <th>4</th>\n      <td>5</td>\n      <td>d</td>\n      <td>3.2</td>\n      <td>lemon 2020/1/7</td>\n    </tr>\n  </tbody>\n</table>\n</div>"
     },
     "execution_count": 50,
     "metadata": {},
     "output_type": "execute_result"
    }
   ],
   "source": [
    "pd.read_table('../data/my_table.txt', header=None)"
   ]
  },
  {
   "cell_type": "code",
   "execution_count": 51,
   "metadata": {
    "ExecuteTime": {
     "start_time": "2023-04-13T08:48:34.536950Z",
     "end_time": "2023-04-13T08:48:36.608683Z"
    }
   },
   "outputs": [
    {
     "data": {
      "text/plain": "           col3    col4      col5\ncol1 col2                        \n2    a      1.4   apple  2020/1/1\n3    b      3.4  banana  2020/1/2\n6    c      2.5  orange  2020/1/5\n5    d      3.2   lemon  2020/1/7",
      "text/html": "<div>\n<style scoped>\n    .dataframe tbody tr th:only-of-type {\n        vertical-align: middle;\n    }\n\n    .dataframe tbody tr th {\n        vertical-align: top;\n    }\n\n    .dataframe thead th {\n        text-align: right;\n    }\n</style>\n<table border=\"1\" class=\"dataframe\">\n  <thead>\n    <tr style=\"text-align: right;\">\n      <th></th>\n      <th></th>\n      <th>col3</th>\n      <th>col4</th>\n      <th>col5</th>\n    </tr>\n    <tr>\n      <th>col1</th>\n      <th>col2</th>\n      <th></th>\n      <th></th>\n      <th></th>\n    </tr>\n  </thead>\n  <tbody>\n    <tr>\n      <th>2</th>\n      <th>a</th>\n      <td>1.4</td>\n      <td>apple</td>\n      <td>2020/1/1</td>\n    </tr>\n    <tr>\n      <th>3</th>\n      <th>b</th>\n      <td>3.4</td>\n      <td>banana</td>\n      <td>2020/1/2</td>\n    </tr>\n    <tr>\n      <th>6</th>\n      <th>c</th>\n      <td>2.5</td>\n      <td>orange</td>\n      <td>2020/1/5</td>\n    </tr>\n    <tr>\n      <th>5</th>\n      <th>d</th>\n      <td>3.2</td>\n      <td>lemon</td>\n      <td>2020/1/7</td>\n    </tr>\n  </tbody>\n</table>\n</div>"
     },
     "execution_count": 51,
     "metadata": {},
     "output_type": "execute_result"
    }
   ],
   "source": [
    "pd.read_csv('../data/my_csv.csv', index_col=['col1', 'col2'])"
   ]
  },
  {
   "cell_type": "code",
   "execution_count": 52,
   "metadata": {
    "ExecuteTime": {
     "start_time": "2023-04-13T08:48:34.568855Z",
     "end_time": "2023-04-13T08:48:36.608683Z"
    }
   },
   "outputs": [
    {
     "data": {
      "text/plain": "   col1 col2\n0     2    a\n1     3    b\n2     6    c\n3     5    d",
      "text/html": "<div>\n<style scoped>\n    .dataframe tbody tr th:only-of-type {\n        vertical-align: middle;\n    }\n\n    .dataframe tbody tr th {\n        vertical-align: top;\n    }\n\n    .dataframe thead th {\n        text-align: right;\n    }\n</style>\n<table border=\"1\" class=\"dataframe\">\n  <thead>\n    <tr style=\"text-align: right;\">\n      <th></th>\n      <th>col1</th>\n      <th>col2</th>\n    </tr>\n  </thead>\n  <tbody>\n    <tr>\n      <th>0</th>\n      <td>2</td>\n      <td>a</td>\n    </tr>\n    <tr>\n      <th>1</th>\n      <td>3</td>\n      <td>b</td>\n    </tr>\n    <tr>\n      <th>2</th>\n      <td>6</td>\n      <td>c</td>\n    </tr>\n    <tr>\n      <th>3</th>\n      <td>5</td>\n      <td>d</td>\n    </tr>\n  </tbody>\n</table>\n</div>"
     },
     "execution_count": 52,
     "metadata": {},
     "output_type": "execute_result"
    }
   ],
   "source": [
    "pd.read_table('../data/my_table.txt', usecols=['col1', 'col2'])"
   ]
  },
  {
   "cell_type": "code",
   "execution_count": 53,
   "metadata": {
    "ExecuteTime": {
     "start_time": "2023-04-13T08:48:34.599855Z",
     "end_time": "2023-04-13T08:48:36.609790Z"
    }
   },
   "outputs": [
    {
     "data": {
      "text/plain": "   col1 col2  col3    col4       col5\n0     2    a   1.4   apple 2020-01-01\n1     3    b   3.4  banana 2020-01-02\n2     6    c   2.5  orange 2020-01-05\n3     5    d   3.2   lemon 2020-01-07",
      "text/html": "<div>\n<style scoped>\n    .dataframe tbody tr th:only-of-type {\n        vertical-align: middle;\n    }\n\n    .dataframe tbody tr th {\n        vertical-align: top;\n    }\n\n    .dataframe thead th {\n        text-align: right;\n    }\n</style>\n<table border=\"1\" class=\"dataframe\">\n  <thead>\n    <tr style=\"text-align: right;\">\n      <th></th>\n      <th>col1</th>\n      <th>col2</th>\n      <th>col3</th>\n      <th>col4</th>\n      <th>col5</th>\n    </tr>\n  </thead>\n  <tbody>\n    <tr>\n      <th>0</th>\n      <td>2</td>\n      <td>a</td>\n      <td>1.4</td>\n      <td>apple</td>\n      <td>2020-01-01</td>\n    </tr>\n    <tr>\n      <th>1</th>\n      <td>3</td>\n      <td>b</td>\n      <td>3.4</td>\n      <td>banana</td>\n      <td>2020-01-02</td>\n    </tr>\n    <tr>\n      <th>2</th>\n      <td>6</td>\n      <td>c</td>\n      <td>2.5</td>\n      <td>orange</td>\n      <td>2020-01-05</td>\n    </tr>\n    <tr>\n      <th>3</th>\n      <td>5</td>\n      <td>d</td>\n      <td>3.2</td>\n      <td>lemon</td>\n      <td>2020-01-07</td>\n    </tr>\n  </tbody>\n</table>\n</div>"
     },
     "execution_count": 53,
     "metadata": {},
     "output_type": "execute_result"
    }
   ],
   "source": [
    "pd.read_csv('../data/my_csv.csv', parse_dates=['col5'])"
   ]
  },
  {
   "cell_type": "markdown",
   "metadata": {},
   "source": [
    "\n",
    "#### 【END】\n",
    "\n",
    "##### (2). 数据写入\n",
    "\n",
    "一般在数据写入中，最常用的操作是把`index`设置为`False`，特别当索引没有特殊意义的时候，这样的行为能把索引在保存的时候去除。"
   ]
  },
  {
   "cell_type": "code",
   "execution_count": 54,
   "metadata": {
    "ExecuteTime": {
     "start_time": "2023-04-13T08:48:34.630005Z",
     "end_time": "2023-04-13T08:48:36.609790Z"
    }
   },
   "outputs": [],
   "source": [
    "df_csv.to_csv('../data/my_csv_saved.csv', index=False)"
   ]
  },
  {
   "cell_type": "markdown",
   "metadata": {},
   "source": [
    "`pandas`中没有定义`to_table`函数，但是`to_csv`可以保存为`txt`文件，并且允许自定义分隔符，常用制表符`\\t`分割："
   ]
  },
  {
   "cell_type": "code",
   "execution_count": 55,
   "metadata": {
    "ExecuteTime": {
     "start_time": "2023-04-13T08:48:34.645127Z",
     "end_time": "2023-04-13T08:48:36.609790Z"
    }
   },
   "outputs": [],
   "source": [
    "df_txt.to_csv('../data/my_txt_saved.txt', sep='\\t', index=False)"
   ]
  },
  {
   "cell_type": "markdown",
   "metadata": {},
   "source": [
    "#### 2、基本数据结构\n",
    "`pandas`中具有两种基本的数据存储结构，存储一维`values`的`Series`和存储二维`values`的`DataFrame`，在这两种结构上定义了很多的属性和方法。\n",
    "\n",
    "##### (1). Series\n",
    "`Series`一般由四个部分组成，分别是序列的值`data`、索引`index`、存储类型`dtype`、序列的名字`name`。其中，索引也可以指定它的名字，默认为空。"
   ]
  },
  {
   "cell_type": "code",
   "execution_count": 56,
   "metadata": {
    "ExecuteTime": {
     "start_time": "2023-04-13T08:48:34.662417Z",
     "end_time": "2023-04-13T08:48:36.609790Z"
    }
   },
   "outputs": [
    {
     "data": {
      "text/plain": "my_idx\nid1              100\n20                 a\nthird    {'dic1': 5}\nName: my_name, dtype: object"
     },
     "execution_count": 56,
     "metadata": {},
     "output_type": "execute_result"
    }
   ],
   "source": [
    "s = pd.Series(data = [100, 'a', {'dic1':5}],\n",
    "              index = pd.Index(['id1', 20, 'third'], name='my_idx'),\n",
    "              dtype = 'object',\n",
    "              name = 'my_name')\n",
    "s"
   ]
  },
  {
   "cell_type": "markdown",
   "metadata": {},
   "source": [
    "#### 【NOTE】`object`类型\n",
    "\n",
    "`object`代表了一种混合类型，正如上面的例子中存储了整数、字符串以及`Python`的字典数据结构。此外，目前`pandas`把纯字符串序列也默认认为是一种`object`类型的序列，但它也可以用`string`类型存储\n",
    "\n",
    "#### 【END】\n",
    "\n",
    "对于这些属性，可以通过 . 的方式来获取："
   ]
  },
  {
   "cell_type": "code",
   "execution_count": 57,
   "metadata": {
    "ExecuteTime": {
     "start_time": "2023-04-13T08:48:34.676803Z",
     "end_time": "2023-04-13T08:48:36.610295Z"
    }
   },
   "outputs": [
    {
     "data": {
      "text/plain": "array([100, 'a', {'dic1': 5}], dtype=object)"
     },
     "execution_count": 57,
     "metadata": {},
     "output_type": "execute_result"
    }
   ],
   "source": [
    "s.values"
   ]
  },
  {
   "cell_type": "code",
   "execution_count": 58,
   "metadata": {
    "ExecuteTime": {
     "start_time": "2023-04-13T08:48:34.692721Z",
     "end_time": "2023-04-13T08:48:36.610295Z"
    }
   },
   "outputs": [
    {
     "data": {
      "text/plain": "Index(['id1', 20, 'third'], dtype='object', name='my_idx')"
     },
     "execution_count": 58,
     "metadata": {},
     "output_type": "execute_result"
    }
   ],
   "source": [
    "s.index"
   ]
  },
  {
   "cell_type": "code",
   "execution_count": 59,
   "metadata": {
    "ExecuteTime": {
     "start_time": "2023-04-13T08:48:34.707909Z",
     "end_time": "2023-04-13T08:48:36.610295Z"
    }
   },
   "outputs": [
    {
     "data": {
      "text/plain": "dtype('O')"
     },
     "execution_count": 59,
     "metadata": {},
     "output_type": "execute_result"
    }
   ],
   "source": [
    "s.dtype"
   ]
  },
  {
   "cell_type": "code",
   "execution_count": 60,
   "metadata": {
    "ExecuteTime": {
     "start_time": "2023-04-13T08:48:34.723093Z",
     "end_time": "2023-04-13T08:48:36.610295Z"
    }
   },
   "outputs": [
    {
     "data": {
      "text/plain": "'my_name'"
     },
     "execution_count": 60,
     "metadata": {},
     "output_type": "execute_result"
    }
   ],
   "source": [
    "s.name"
   ]
  },
  {
   "cell_type": "markdown",
   "metadata": {},
   "source": [
    "利用`.shape`可以获取序列的长度："
   ]
  },
  {
   "cell_type": "code",
   "execution_count": 61,
   "metadata": {
    "ExecuteTime": {
     "start_time": "2023-04-13T08:48:34.737052Z",
     "end_time": "2023-04-13T08:48:36.610295Z"
    }
   },
   "outputs": [
    {
     "data": {
      "text/plain": "(3,)"
     },
     "execution_count": 61,
     "metadata": {},
     "output_type": "execute_result"
    }
   ],
   "source": [
    "s.shape"
   ]
  },
  {
   "cell_type": "markdown",
   "metadata": {},
   "source": [
    "如果想要取出单个索引对应的值，可以通过`[index_item]`可以取出。"
   ]
  },
  {
   "cell_type": "markdown",
   "metadata": {},
   "source": [
    "##### (2). DataFrame\n",
    "`DataFrame`在`Series`的基础上增加了列索引，一个数据框可以由二维的`data`与行列索引来构造："
   ]
  },
  {
   "cell_type": "code",
   "execution_count": 62,
   "metadata": {
    "ExecuteTime": {
     "start_time": "2023-04-13T08:48:34.755056Z",
     "end_time": "2023-04-13T08:48:36.611305Z"
    }
   },
   "outputs": [
    {
     "data": {
      "text/plain": "       col_0 col_1  col_2\nrow_0      1     a    1.2\nrow_1      2     b    2.2\nrow_2      3     c    3.2",
      "text/html": "<div>\n<style scoped>\n    .dataframe tbody tr th:only-of-type {\n        vertical-align: middle;\n    }\n\n    .dataframe tbody tr th {\n        vertical-align: top;\n    }\n\n    .dataframe thead th {\n        text-align: right;\n    }\n</style>\n<table border=\"1\" class=\"dataframe\">\n  <thead>\n    <tr style=\"text-align: right;\">\n      <th></th>\n      <th>col_0</th>\n      <th>col_1</th>\n      <th>col_2</th>\n    </tr>\n  </thead>\n  <tbody>\n    <tr>\n      <th>row_0</th>\n      <td>1</td>\n      <td>a</td>\n      <td>1.2</td>\n    </tr>\n    <tr>\n      <th>row_1</th>\n      <td>2</td>\n      <td>b</td>\n      <td>2.2</td>\n    </tr>\n    <tr>\n      <th>row_2</th>\n      <td>3</td>\n      <td>c</td>\n      <td>3.2</td>\n    </tr>\n  </tbody>\n</table>\n</div>"
     },
     "execution_count": 62,
     "metadata": {},
     "output_type": "execute_result"
    }
   ],
   "source": [
    "data = [[1, 'a', 1.2], [2, 'b', 2.2], [3, 'c', 3.2]]\n",
    "df = pd.DataFrame(data = data,\n",
    "                  index = ['row_%d'%i for i in range(3)],\n",
    "                  columns=['col_0', 'col_1', 'col_2'])\n",
    "df"
   ]
  },
  {
   "cell_type": "markdown",
   "metadata": {},
   "source": [
    "但一般而言，更多的时候会采用从列索引名到数据的映射来构造数据框，同时再加上行索引："
   ]
  },
  {
   "cell_type": "code",
   "execution_count": 63,
   "metadata": {
    "ExecuteTime": {
     "start_time": "2023-04-13T08:48:34.786189Z",
     "end_time": "2023-04-13T08:48:36.611305Z"
    }
   },
   "outputs": [
    {
     "data": {
      "text/plain": "       col_0 col_1  col_2\ncol_0      1     a    1.2\ncol_1      2     b    2.2\ncol_2      3     c    3.2",
      "text/html": "<div>\n<style scoped>\n    .dataframe tbody tr th:only-of-type {\n        vertical-align: middle;\n    }\n\n    .dataframe tbody tr th {\n        vertical-align: top;\n    }\n\n    .dataframe thead th {\n        text-align: right;\n    }\n</style>\n<table border=\"1\" class=\"dataframe\">\n  <thead>\n    <tr style=\"text-align: right;\">\n      <th></th>\n      <th>col_0</th>\n      <th>col_1</th>\n      <th>col_2</th>\n    </tr>\n  </thead>\n  <tbody>\n    <tr>\n      <th>col_0</th>\n      <td>1</td>\n      <td>a</td>\n      <td>1.2</td>\n    </tr>\n    <tr>\n      <th>col_1</th>\n      <td>2</td>\n      <td>b</td>\n      <td>2.2</td>\n    </tr>\n    <tr>\n      <th>col_2</th>\n      <td>3</td>\n      <td>c</td>\n      <td>3.2</td>\n    </tr>\n  </tbody>\n</table>\n</div>"
     },
     "execution_count": 63,
     "metadata": {},
     "output_type": "execute_result"
    }
   ],
   "source": [
    "df = pd.DataFrame(data = {'col_0': [1,2,3],\n",
    "                          'col_1':list('abc'),\n",
    "                          'col_2': [1.2, 2.2, 3.2]},\n",
    "                  index = [\"col_{0}\".format(i) for i in range(3)])\n",
    "df"
   ]
  },
  {
   "cell_type": "markdown",
   "metadata": {},
   "source": [
    "由于这种映射关系，在`DataFrame`中可以用`[col_name]`与`[col_list]`来取出相应的列与由多个列组成的表，结果分别为`Series`和`DataFrame`："
   ]
  },
  {
   "cell_type": "code",
   "execution_count": 64,
   "metadata": {
    "ExecuteTime": {
     "start_time": "2023-04-13T08:48:34.819492Z",
     "end_time": "2023-04-13T08:48:36.611305Z"
    }
   },
   "outputs": [
    {
     "data": {
      "text/plain": "col_0    1\ncol_1    2\ncol_2    3\nName: col_0, dtype: int64"
     },
     "execution_count": 64,
     "metadata": {},
     "output_type": "execute_result"
    }
   ],
   "source": [
    "df['col_0']"
   ]
  },
  {
   "cell_type": "code",
   "execution_count": 65,
   "metadata": {
    "ExecuteTime": {
     "start_time": "2023-04-13T08:48:34.833898Z",
     "end_time": "2023-04-13T08:48:36.611305Z"
    }
   },
   "outputs": [
    {
     "data": {
      "text/plain": "       col_0  col_2\ncol_0      1    1.2\ncol_1      2    2.2\ncol_2      3    3.2",
      "text/html": "<div>\n<style scoped>\n    .dataframe tbody tr th:only-of-type {\n        vertical-align: middle;\n    }\n\n    .dataframe tbody tr th {\n        vertical-align: top;\n    }\n\n    .dataframe thead th {\n        text-align: right;\n    }\n</style>\n<table border=\"1\" class=\"dataframe\">\n  <thead>\n    <tr style=\"text-align: right;\">\n      <th></th>\n      <th>col_0</th>\n      <th>col_2</th>\n    </tr>\n  </thead>\n  <tbody>\n    <tr>\n      <th>col_0</th>\n      <td>1</td>\n      <td>1.2</td>\n    </tr>\n    <tr>\n      <th>col_1</th>\n      <td>2</td>\n      <td>2.2</td>\n    </tr>\n    <tr>\n      <th>col_2</th>\n      <td>3</td>\n      <td>3.2</td>\n    </tr>\n  </tbody>\n</table>\n</div>"
     },
     "execution_count": 65,
     "metadata": {},
     "output_type": "execute_result"
    }
   ],
   "source": [
    "df[['col_0','col_2' ]]"
   ]
  },
  {
   "cell_type": "markdown",
   "metadata": {},
   "source": [
    "与`Series`类似，在数据框中同样可以取出相应的属性："
   ]
  },
  {
   "cell_type": "code",
   "execution_count": 66,
   "metadata": {
    "ExecuteTime": {
     "start_time": "2023-04-13T08:48:34.847850Z",
     "end_time": "2023-04-13T08:48:36.611305Z"
    }
   },
   "outputs": [
    {
     "data": {
      "text/plain": "array([[1, 'a', 1.2],\n       [2, 'b', 2.2],\n       [3, 'c', 3.2]], dtype=object)"
     },
     "execution_count": 66,
     "metadata": {},
     "output_type": "execute_result"
    }
   ],
   "source": [
    "df.values"
   ]
  },
  {
   "cell_type": "code",
   "execution_count": 67,
   "metadata": {
    "ExecuteTime": {
     "start_time": "2023-04-13T08:48:34.862479Z",
     "end_time": "2023-04-13T08:48:36.611305Z"
    }
   },
   "outputs": [
    {
     "data": {
      "text/plain": "Index(['col_0', 'col_1', 'col_2'], dtype='object')"
     },
     "execution_count": 67,
     "metadata": {},
     "output_type": "execute_result"
    }
   ],
   "source": [
    "df.index"
   ]
  },
  {
   "cell_type": "code",
   "execution_count": 68,
   "metadata": {
    "ExecuteTime": {
     "start_time": "2023-04-13T08:48:34.878700Z",
     "end_time": "2023-04-13T08:48:36.634401Z"
    }
   },
   "outputs": [
    {
     "data": {
      "text/plain": "Index(['col_0', 'col_1', 'col_2'], dtype='object')"
     },
     "execution_count": 68,
     "metadata": {},
     "output_type": "execute_result"
    }
   ],
   "source": [
    "df.columns"
   ]
  },
  {
   "cell_type": "code",
   "execution_count": 69,
   "metadata": {
    "ExecuteTime": {
     "start_time": "2023-04-13T08:48:34.896701Z",
     "end_time": "2023-04-13T08:48:36.635404Z"
    }
   },
   "outputs": [
    {
     "data": {
      "text/plain": "col_0      int64\ncol_1     object\ncol_2    float64\ndtype: object"
     },
     "execution_count": 69,
     "metadata": {},
     "output_type": "execute_result"
    }
   ],
   "source": [
    "df.dtypes # 返回的是值为相应列数据类型的Series"
   ]
  },
  {
   "cell_type": "code",
   "execution_count": 70,
   "metadata": {
    "ExecuteTime": {
     "start_time": "2023-04-13T08:48:34.910710Z",
     "end_time": "2023-04-13T08:48:36.635404Z"
    }
   },
   "outputs": [
    {
     "data": {
      "text/plain": "(3, 3)"
     },
     "execution_count": 70,
     "metadata": {},
     "output_type": "execute_result"
    }
   ],
   "source": [
    "df.shape"
   ]
  },
  {
   "cell_type": "markdown",
   "metadata": {},
   "source": [
    "通过`.T`可以把`DataFrame`进行转置："
   ]
  },
  {
   "cell_type": "code",
   "execution_count": 71,
   "metadata": {
    "ExecuteTime": {
     "start_time": "2023-04-13T08:48:34.925250Z",
     "end_time": "2023-04-13T08:48:36.635404Z"
    }
   },
   "outputs": [
    {
     "data": {
      "text/plain": "      col_0 col_1 col_2\ncol_0     1     2     3\ncol_1     a     b     c\ncol_2   1.2   2.2   3.2",
      "text/html": "<div>\n<style scoped>\n    .dataframe tbody tr th:only-of-type {\n        vertical-align: middle;\n    }\n\n    .dataframe tbody tr th {\n        vertical-align: top;\n    }\n\n    .dataframe thead th {\n        text-align: right;\n    }\n</style>\n<table border=\"1\" class=\"dataframe\">\n  <thead>\n    <tr style=\"text-align: right;\">\n      <th></th>\n      <th>col_0</th>\n      <th>col_1</th>\n      <th>col_2</th>\n    </tr>\n  </thead>\n  <tbody>\n    <tr>\n      <th>col_0</th>\n      <td>1</td>\n      <td>2</td>\n      <td>3</td>\n    </tr>\n    <tr>\n      <th>col_1</th>\n      <td>a</td>\n      <td>b</td>\n      <td>c</td>\n    </tr>\n    <tr>\n      <th>col_2</th>\n      <td>1.2</td>\n      <td>2.2</td>\n      <td>3.2</td>\n    </tr>\n  </tbody>\n</table>\n</div>"
     },
     "execution_count": 71,
     "metadata": {},
     "output_type": "execute_result"
    }
   ],
   "source": [
    "df.T"
   ]
  },
  {
   "cell_type": "markdown",
   "metadata": {},
   "source": [
    "#### 3、常用基本函数\n",
    "为了进行举例说明，在接下来的部分和其余章节都将会使用一份`learn_pandas.csv`的虚拟数据集，它记录了四所学校学生的体测个人信息。"
   ]
  },
  {
   "cell_type": "code",
   "execution_count": 72,
   "metadata": {
    "ExecuteTime": {
     "start_time": "2023-04-13T08:48:34.941053Z",
     "end_time": "2023-04-13T08:48:36.635404Z"
    }
   },
   "outputs": [
    {
     "data": {
      "text/plain": "Index(['School', 'Grade', 'Name', 'Gender', 'Height', 'Weight', 'Transfer',\n       'Test_Number', 'Test_Date', 'Time_Record'],\n      dtype='object')"
     },
     "execution_count": 72,
     "metadata": {},
     "output_type": "execute_result"
    }
   ],
   "source": [
    "df = pd.read_csv('../data/learn_pandas.csv')\n",
    "df.columns"
   ]
  },
  {
   "cell_type": "markdown",
   "metadata": {},
   "source": [
    "上述列名依次代表学校、年级、姓名、性别、身高、体重、是否为转系生、体测场次、测试时间、1000米成绩，这里只需使用其中的前七列。"
   ]
  },
  {
   "cell_type": "code",
   "execution_count": 73,
   "metadata": {
    "ExecuteTime": {
     "start_time": "2023-04-13T08:48:34.971497Z",
     "end_time": "2023-04-13T08:48:36.635404Z"
    }
   },
   "outputs": [],
   "source": [
    "df = df[df.columns[:7]]"
   ]
  },
  {
   "cell_type": "markdown",
   "metadata": {},
   "source": [
    "##### (1). 汇总函数\n",
    "`head, tail`函数分别表示返回表或者序列的前`n`行和后`n`行，其中`n`默认为5："
   ]
  },
  {
   "cell_type": "code",
   "execution_count": 74,
   "metadata": {
    "ExecuteTime": {
     "start_time": "2023-04-13T08:48:34.987499Z",
     "end_time": "2023-04-13T08:48:36.635404Z"
    }
   },
   "outputs": [
    {
     "data": {
      "text/plain": "                          School     Grade            Name  Gender  Height  \\\n0  Shanghai Jiao Tong University  Freshman    Gaopeng Yang  Female   158.9   \n1              Peking University  Freshman  Changqiang You    Male   166.5   \n\n   Weight Transfer  \n0    46.0        N  \n1    70.0        N  ",
      "text/html": "<div>\n<style scoped>\n    .dataframe tbody tr th:only-of-type {\n        vertical-align: middle;\n    }\n\n    .dataframe tbody tr th {\n        vertical-align: top;\n    }\n\n    .dataframe thead th {\n        text-align: right;\n    }\n</style>\n<table border=\"1\" class=\"dataframe\">\n  <thead>\n    <tr style=\"text-align: right;\">\n      <th></th>\n      <th>School</th>\n      <th>Grade</th>\n      <th>Name</th>\n      <th>Gender</th>\n      <th>Height</th>\n      <th>Weight</th>\n      <th>Transfer</th>\n    </tr>\n  </thead>\n  <tbody>\n    <tr>\n      <th>0</th>\n      <td>Shanghai Jiao Tong University</td>\n      <td>Freshman</td>\n      <td>Gaopeng Yang</td>\n      <td>Female</td>\n      <td>158.9</td>\n      <td>46.0</td>\n      <td>N</td>\n    </tr>\n    <tr>\n      <th>1</th>\n      <td>Peking University</td>\n      <td>Freshman</td>\n      <td>Changqiang You</td>\n      <td>Male</td>\n      <td>166.5</td>\n      <td>70.0</td>\n      <td>N</td>\n    </tr>\n  </tbody>\n</table>\n</div>"
     },
     "execution_count": 74,
     "metadata": {},
     "output_type": "execute_result"
    }
   ],
   "source": [
    "df.head(2)"
   ]
  },
  {
   "cell_type": "code",
   "execution_count": 75,
   "metadata": {
    "ExecuteTime": {
     "start_time": "2023-04-13T08:48:35.003008Z",
     "end_time": "2023-04-13T08:48:36.635404Z"
    }
   },
   "outputs": [
    {
     "data": {
      "text/plain": "                            School      Grade            Name  Gender  Height  \\\n197  Shanghai Jiao Tong University     Senior  Chengqiang Chu  Female   153.9   \n198  Shanghai Jiao Tong University     Senior   Chengmei Shen    Male   175.3   \n199            Tsinghua University  Sophomore     Chunpeng Lv    Male   155.7   \n\n     Weight Transfer  \n197    45.0        N  \n198    71.0        N  \n199    51.0        N  ",
      "text/html": "<div>\n<style scoped>\n    .dataframe tbody tr th:only-of-type {\n        vertical-align: middle;\n    }\n\n    .dataframe tbody tr th {\n        vertical-align: top;\n    }\n\n    .dataframe thead th {\n        text-align: right;\n    }\n</style>\n<table border=\"1\" class=\"dataframe\">\n  <thead>\n    <tr style=\"text-align: right;\">\n      <th></th>\n      <th>School</th>\n      <th>Grade</th>\n      <th>Name</th>\n      <th>Gender</th>\n      <th>Height</th>\n      <th>Weight</th>\n      <th>Transfer</th>\n    </tr>\n  </thead>\n  <tbody>\n    <tr>\n      <th>197</th>\n      <td>Shanghai Jiao Tong University</td>\n      <td>Senior</td>\n      <td>Chengqiang Chu</td>\n      <td>Female</td>\n      <td>153.9</td>\n      <td>45.0</td>\n      <td>N</td>\n    </tr>\n    <tr>\n      <th>198</th>\n      <td>Shanghai Jiao Tong University</td>\n      <td>Senior</td>\n      <td>Chengmei Shen</td>\n      <td>Male</td>\n      <td>175.3</td>\n      <td>71.0</td>\n      <td>N</td>\n    </tr>\n    <tr>\n      <th>199</th>\n      <td>Tsinghua University</td>\n      <td>Sophomore</td>\n      <td>Chunpeng Lv</td>\n      <td>Male</td>\n      <td>155.7</td>\n      <td>51.0</td>\n      <td>N</td>\n    </tr>\n  </tbody>\n</table>\n</div>"
     },
     "execution_count": 75,
     "metadata": {},
     "output_type": "execute_result"
    }
   ],
   "source": [
    "df.tail(3)"
   ]
  },
  {
   "cell_type": "markdown",
   "metadata": {},
   "source": [
    "`info, describe`分别返回表的信息概况和表中数值列对应的主要统计量 ："
   ]
  },
  {
   "cell_type": "code",
   "execution_count": 76,
   "metadata": {
    "ExecuteTime": {
     "start_time": "2023-04-13T08:48:35.033205Z",
     "end_time": "2023-04-13T08:48:36.636841Z"
    }
   },
   "outputs": [
    {
     "name": "stdout",
     "output_type": "stream",
     "text": [
      "<class 'pandas.core.frame.DataFrame'>\n",
      "RangeIndex: 200 entries, 0 to 199\n",
      "Data columns (total 7 columns):\n",
      " #   Column    Non-Null Count  Dtype  \n",
      "---  ------    --------------  -----  \n",
      " 0   School    200 non-null    object \n",
      " 1   Grade     200 non-null    object \n",
      " 2   Name      200 non-null    object \n",
      " 3   Gender    200 non-null    object \n",
      " 4   Height    183 non-null    float64\n",
      " 5   Weight    189 non-null    float64\n",
      " 6   Transfer  188 non-null    object \n",
      "dtypes: float64(2), object(5)\n",
      "memory usage: 11.1+ KB\n"
     ]
    }
   ],
   "source": [
    "df.info()"
   ]
  },
  {
   "cell_type": "code",
   "execution_count": 77,
   "metadata": {
    "ExecuteTime": {
     "start_time": "2023-04-13T08:48:35.066091Z",
     "end_time": "2023-04-13T08:48:36.636841Z"
    }
   },
   "outputs": [
    {
     "data": {
      "text/plain": "           Height      Weight\ncount  183.000000  189.000000\nmean   163.218033   55.015873\nstd      8.608879   12.824294\nmin    145.400000   34.000000\n25%    157.150000   46.000000\n50%    161.900000   51.000000\n75%    167.500000   65.000000\nmax    193.900000   89.000000",
      "text/html": "<div>\n<style scoped>\n    .dataframe tbody tr th:only-of-type {\n        vertical-align: middle;\n    }\n\n    .dataframe tbody tr th {\n        vertical-align: top;\n    }\n\n    .dataframe thead th {\n        text-align: right;\n    }\n</style>\n<table border=\"1\" class=\"dataframe\">\n  <thead>\n    <tr style=\"text-align: right;\">\n      <th></th>\n      <th>Height</th>\n      <th>Weight</th>\n    </tr>\n  </thead>\n  <tbody>\n    <tr>\n      <th>count</th>\n      <td>183.000000</td>\n      <td>189.000000</td>\n    </tr>\n    <tr>\n      <th>mean</th>\n      <td>163.218033</td>\n      <td>55.015873</td>\n    </tr>\n    <tr>\n      <th>std</th>\n      <td>8.608879</td>\n      <td>12.824294</td>\n    </tr>\n    <tr>\n      <th>min</th>\n      <td>145.400000</td>\n      <td>34.000000</td>\n    </tr>\n    <tr>\n      <th>25%</th>\n      <td>157.150000</td>\n      <td>46.000000</td>\n    </tr>\n    <tr>\n      <th>50%</th>\n      <td>161.900000</td>\n      <td>51.000000</td>\n    </tr>\n    <tr>\n      <th>75%</th>\n      <td>167.500000</td>\n      <td>65.000000</td>\n    </tr>\n    <tr>\n      <th>max</th>\n      <td>193.900000</td>\n      <td>89.000000</td>\n    </tr>\n  </tbody>\n</table>\n</div>"
     },
     "execution_count": 77,
     "metadata": {},
     "output_type": "execute_result"
    }
   ],
   "source": [
    "df.describe()"
   ]
  },
  {
   "cell_type": "markdown",
   "metadata": {},
   "source": [
    "#### 【NOTE】更全面的数据汇总\n",
    "\n",
    "`info, describe`只能实现较少信息的展示，如果想要对一份数据集进行全面且有效的观察，特别是在列较多的情况下，推荐使用[pandas-profiling]包，如果有兴趣的话大家可以自行查阅学习。\n",
    "\n",
    "#### 【END】\n",
    "\n",
    "##### (2). 特征统计函数\n",
    "在`Series`和`DataFrame`上定义了许多统计函数，最常见的是`sum, mean, median, var, std, max, min`。例如，选出身高和体重列进行演示："
   ]
  },
  {
   "cell_type": "code",
   "execution_count": 78,
   "metadata": {
    "ExecuteTime": {
     "start_time": "2023-04-13T08:48:35.112040Z",
     "end_time": "2023-04-13T08:48:36.636841Z"
    }
   },
   "outputs": [
    {
     "data": {
      "text/plain": "Height    163.218033\nWeight     55.015873\ndtype: float64"
     },
     "execution_count": 78,
     "metadata": {},
     "output_type": "execute_result"
    }
   ],
   "source": [
    "df_demo = df[['Height', 'Weight']]\n",
    "df_demo.mean()"
   ]
  },
  {
   "cell_type": "code",
   "execution_count": 79,
   "metadata": {
    "ExecuteTime": {
     "start_time": "2023-04-13T08:48:35.127970Z",
     "end_time": "2023-04-13T08:48:36.637345Z"
    }
   },
   "outputs": [
    {
     "data": {
      "text/plain": "Height    193.9\nWeight     89.0\ndtype: float64"
     },
     "execution_count": 79,
     "metadata": {},
     "output_type": "execute_result"
    }
   ],
   "source": [
    "df_demo.max()"
   ]
  },
  {
   "cell_type": "markdown",
   "metadata": {},
   "source": [
    "此外，需要介绍的是`quantile, count, idxmax`这三个函数，它们分别返回的是分位数（概率论内容目前未学，分位数相关内容可先不管）、非缺失值个数、最大值对应的索引："
   ]
  },
  {
   "cell_type": "code",
   "execution_count": 80,
   "metadata": {
    "ExecuteTime": {
     "start_time": "2023-04-13T08:48:35.143544Z",
     "end_time": "2023-04-13T08:48:36.637345Z"
    }
   },
   "outputs": [
    {
     "data": {
      "text/plain": "Height    167.5\nWeight     65.0\nName: 0.75, dtype: float64"
     },
     "execution_count": 80,
     "metadata": {},
     "output_type": "execute_result"
    }
   ],
   "source": [
    "df_demo.quantile(0.75)"
   ]
  },
  {
   "cell_type": "code",
   "execution_count": 81,
   "metadata": {
    "ExecuteTime": {
     "start_time": "2023-04-13T08:48:35.156873Z",
     "end_time": "2023-04-13T08:48:36.637345Z"
    }
   },
   "outputs": [
    {
     "data": {
      "text/plain": "Height    183\nWeight    189\ndtype: int64"
     },
     "execution_count": 81,
     "metadata": {},
     "output_type": "execute_result"
    }
   ],
   "source": [
    "df_demo.count()"
   ]
  },
  {
   "cell_type": "code",
   "execution_count": 82,
   "metadata": {
    "ExecuteTime": {
     "start_time": "2023-04-13T08:48:35.173977Z",
     "end_time": "2023-04-13T08:48:36.637345Z"
    }
   },
   "outputs": [
    {
     "data": {
      "text/plain": "Height    193\nWeight      2\ndtype: int64"
     },
     "execution_count": 82,
     "metadata": {},
     "output_type": "execute_result"
    }
   ],
   "source": [
    "df_demo.idxmax() # idxmin是对应的函数"
   ]
  },
  {
   "cell_type": "markdown",
   "metadata": {},
   "source": [
    "上面这些所有的函数，由于操作后返回的是标量，所以又称为聚合函数，它们有一个公共参数`axis`，默认为0代表逐列聚合，如果设置为1则表示逐行聚合："
   ]
  },
  {
   "cell_type": "code",
   "execution_count": 83,
   "metadata": {
    "ExecuteTime": {
     "start_time": "2023-04-13T08:48:35.190429Z",
     "end_time": "2023-04-13T08:48:36.637345Z"
    }
   },
   "outputs": [
    {
     "data": {
      "text/plain": "0    102.45\n1    118.25\n2    138.95\n3     41.00\n4    124.00\ndtype: float64"
     },
     "execution_count": 83,
     "metadata": {},
     "output_type": "execute_result"
    }
   ],
   "source": [
    "df_demo.mean(axis=1).head() # 这里是求（身高+体重）/2，在这个数据集上体重和身高的均值并没有意义"
   ]
  },
  {
   "cell_type": "markdown",
   "metadata": {},
   "source": [
    "##### (3). 唯一值函数\n",
    "对序列使用`unique`和`nunique`可以分别得到其唯一值组成的列表和唯一值的个数："
   ]
  },
  {
   "cell_type": "code",
   "execution_count": 84,
   "metadata": {
    "ExecuteTime": {
     "start_time": "2023-04-13T08:48:35.204879Z",
     "end_time": "2023-04-13T08:48:36.638745Z"
    }
   },
   "outputs": [
    {
     "data": {
      "text/plain": "array(['Shanghai Jiao Tong University', 'Peking University',\n       'Fudan University', 'Tsinghua University'], dtype=object)"
     },
     "execution_count": 84,
     "metadata": {},
     "output_type": "execute_result"
    }
   ],
   "source": [
    "df['School'].unique()"
   ]
  },
  {
   "cell_type": "code",
   "execution_count": 85,
   "metadata": {
    "ExecuteTime": {
     "start_time": "2023-04-13T08:48:35.220758Z",
     "end_time": "2023-04-13T08:48:36.638745Z"
    }
   },
   "outputs": [
    {
     "data": {
      "text/plain": "4"
     },
     "execution_count": 85,
     "metadata": {},
     "output_type": "execute_result"
    }
   ],
   "source": [
    "df['School'].nunique()"
   ]
  },
  {
   "cell_type": "markdown",
   "metadata": {},
   "source": [
    "`value_counts`可以得到唯一值和其对应出现的频数，并且默认从高到低排序："
   ]
  },
  {
   "cell_type": "code",
   "execution_count": 86,
   "metadata": {
    "ExecuteTime": {
     "start_time": "2023-04-13T08:48:35.236729Z",
     "end_time": "2023-04-13T08:48:36.638745Z"
    }
   },
   "outputs": [
    {
     "data": {
      "text/plain": "Tsinghua University              69\nShanghai Jiao Tong University    57\nFudan University                 40\nPeking University                34\nName: School, dtype: int64"
     },
     "execution_count": 86,
     "metadata": {},
     "output_type": "execute_result"
    }
   ],
   "source": [
    "df['School'].value_counts()"
   ]
  },
  {
   "cell_type": "markdown",
   "metadata": {},
   "source": [
    "如果想要观察多个列组合的唯一值，可以使用`drop_duplicates`。其中的关键参数是`keep`，默认值`first`表示每个组合保留第一次出现的所在行，`last`表示保留最后一次出现的所在行，`False`表示把所有重复组合所在的行剔除。"
   ]
  },
  {
   "cell_type": "code",
   "execution_count": 87,
   "metadata": {
    "ExecuteTime": {
     "start_time": "2023-04-13T08:48:35.253472Z",
     "end_time": "2023-04-13T08:48:36.638745Z"
    }
   },
   "outputs": [
    {
     "data": {
      "text/plain": "    Gender Transfer            Name\n0   Female        N    Gaopeng Yang\n1     Male        N  Changqiang You\n12  Female      NaN        Peng You\n21    Male      NaN   Xiaopeng Shen\n36    Male        Y    Xiaojuan Qin\n43  Female        Y      Gaoli Feng",
      "text/html": "<div>\n<style scoped>\n    .dataframe tbody tr th:only-of-type {\n        vertical-align: middle;\n    }\n\n    .dataframe tbody tr th {\n        vertical-align: top;\n    }\n\n    .dataframe thead th {\n        text-align: right;\n    }\n</style>\n<table border=\"1\" class=\"dataframe\">\n  <thead>\n    <tr style=\"text-align: right;\">\n      <th></th>\n      <th>Gender</th>\n      <th>Transfer</th>\n      <th>Name</th>\n    </tr>\n  </thead>\n  <tbody>\n    <tr>\n      <th>0</th>\n      <td>Female</td>\n      <td>N</td>\n      <td>Gaopeng Yang</td>\n    </tr>\n    <tr>\n      <th>1</th>\n      <td>Male</td>\n      <td>N</td>\n      <td>Changqiang You</td>\n    </tr>\n    <tr>\n      <th>12</th>\n      <td>Female</td>\n      <td>NaN</td>\n      <td>Peng You</td>\n    </tr>\n    <tr>\n      <th>21</th>\n      <td>Male</td>\n      <td>NaN</td>\n      <td>Xiaopeng Shen</td>\n    </tr>\n    <tr>\n      <th>36</th>\n      <td>Male</td>\n      <td>Y</td>\n      <td>Xiaojuan Qin</td>\n    </tr>\n    <tr>\n      <th>43</th>\n      <td>Female</td>\n      <td>Y</td>\n      <td>Gaoli Feng</td>\n    </tr>\n  </tbody>\n</table>\n</div>"
     },
     "execution_count": 87,
     "metadata": {},
     "output_type": "execute_result"
    }
   ],
   "source": [
    "df_demo = df[['Gender','Transfer','Name']]\n",
    "df_demo.drop_duplicates(['Gender', 'Transfer'])"
   ]
  },
  {
   "cell_type": "code",
   "execution_count": 88,
   "metadata": {
    "ExecuteTime": {
     "start_time": "2023-04-13T08:48:35.267860Z",
     "end_time": "2023-04-13T08:48:36.639757Z"
    }
   },
   "outputs": [
    {
     "data": {
      "text/plain": "     Gender Transfer            Name\n147    Male      NaN        Juan You\n150    Male        Y   Chengpeng You\n169  Female        Y   Chengquan Qin\n194  Female      NaN     Yanmei Qian\n197  Female        N  Chengqiang Chu\n199    Male        N     Chunpeng Lv",
      "text/html": "<div>\n<style scoped>\n    .dataframe tbody tr th:only-of-type {\n        vertical-align: middle;\n    }\n\n    .dataframe tbody tr th {\n        vertical-align: top;\n    }\n\n    .dataframe thead th {\n        text-align: right;\n    }\n</style>\n<table border=\"1\" class=\"dataframe\">\n  <thead>\n    <tr style=\"text-align: right;\">\n      <th></th>\n      <th>Gender</th>\n      <th>Transfer</th>\n      <th>Name</th>\n    </tr>\n  </thead>\n  <tbody>\n    <tr>\n      <th>147</th>\n      <td>Male</td>\n      <td>NaN</td>\n      <td>Juan You</td>\n    </tr>\n    <tr>\n      <th>150</th>\n      <td>Male</td>\n      <td>Y</td>\n      <td>Chengpeng You</td>\n    </tr>\n    <tr>\n      <th>169</th>\n      <td>Female</td>\n      <td>Y</td>\n      <td>Chengquan Qin</td>\n    </tr>\n    <tr>\n      <th>194</th>\n      <td>Female</td>\n      <td>NaN</td>\n      <td>Yanmei Qian</td>\n    </tr>\n    <tr>\n      <th>197</th>\n      <td>Female</td>\n      <td>N</td>\n      <td>Chengqiang Chu</td>\n    </tr>\n    <tr>\n      <th>199</th>\n      <td>Male</td>\n      <td>N</td>\n      <td>Chunpeng Lv</td>\n    </tr>\n  </tbody>\n</table>\n</div>"
     },
     "execution_count": 88,
     "metadata": {},
     "output_type": "execute_result"
    }
   ],
   "source": [
    "df_demo.drop_duplicates(['Gender', 'Transfer'], keep='last')"
   ]
  },
  {
   "cell_type": "code",
   "execution_count": 89,
   "metadata": {
    "ExecuteTime": {
     "start_time": "2023-04-13T08:48:35.284916Z",
     "end_time": "2023-04-13T08:48:36.639757Z"
    }
   },
   "outputs": [
    {
     "data": {
      "text/plain": "                          School      Grade            Name  Gender  Height  \\\n0  Shanghai Jiao Tong University   Freshman    Gaopeng Yang  Female   158.9   \n1              Peking University   Freshman  Changqiang You    Male   166.5   \n2  Shanghai Jiao Tong University     Senior         Mei Sun    Male   188.9   \n4               Fudan University  Sophomore     Gaojuan You    Male   174.0   \n5            Tsinghua University   Freshman     Xiaoli Qian  Female   158.0   \n\n   Weight Transfer  \n0    46.0        N  \n1    70.0        N  \n2    89.0        N  \n4    74.0        N  \n5    51.0        N  ",
      "text/html": "<div>\n<style scoped>\n    .dataframe tbody tr th:only-of-type {\n        vertical-align: middle;\n    }\n\n    .dataframe tbody tr th {\n        vertical-align: top;\n    }\n\n    .dataframe thead th {\n        text-align: right;\n    }\n</style>\n<table border=\"1\" class=\"dataframe\">\n  <thead>\n    <tr style=\"text-align: right;\">\n      <th></th>\n      <th>School</th>\n      <th>Grade</th>\n      <th>Name</th>\n      <th>Gender</th>\n      <th>Height</th>\n      <th>Weight</th>\n      <th>Transfer</th>\n    </tr>\n  </thead>\n  <tbody>\n    <tr>\n      <th>0</th>\n      <td>Shanghai Jiao Tong University</td>\n      <td>Freshman</td>\n      <td>Gaopeng Yang</td>\n      <td>Female</td>\n      <td>158.9</td>\n      <td>46.0</td>\n      <td>N</td>\n    </tr>\n    <tr>\n      <th>1</th>\n      <td>Peking University</td>\n      <td>Freshman</td>\n      <td>Changqiang You</td>\n      <td>Male</td>\n      <td>166.5</td>\n      <td>70.0</td>\n      <td>N</td>\n    </tr>\n    <tr>\n      <th>2</th>\n      <td>Shanghai Jiao Tong University</td>\n      <td>Senior</td>\n      <td>Mei Sun</td>\n      <td>Male</td>\n      <td>188.9</td>\n      <td>89.0</td>\n      <td>N</td>\n    </tr>\n    <tr>\n      <th>4</th>\n      <td>Fudan University</td>\n      <td>Sophomore</td>\n      <td>Gaojuan You</td>\n      <td>Male</td>\n      <td>174.0</td>\n      <td>74.0</td>\n      <td>N</td>\n    </tr>\n    <tr>\n      <th>5</th>\n      <td>Tsinghua University</td>\n      <td>Freshman</td>\n      <td>Xiaoli Qian</td>\n      <td>Female</td>\n      <td>158.0</td>\n      <td>51.0</td>\n      <td>N</td>\n    </tr>\n  </tbody>\n</table>\n</div>"
     },
     "execution_count": 89,
     "metadata": {},
     "output_type": "execute_result"
    }
   ],
   "source": [
    "df.drop_duplicates(['Name', 'Gender'], keep=False).head() # 保留只出现过一次的性别和姓名组合\n"
   ]
  },
  {
   "cell_type": "code",
   "execution_count": 90,
   "metadata": {
    "ExecuteTime": {
     "start_time": "2023-04-13T08:48:35.298106Z",
     "end_time": "2023-04-13T08:48:36.639757Z"
    }
   },
   "outputs": [
    {
     "data": {
      "text/plain": "0    Shanghai Jiao Tong University\n1                Peking University\n3                 Fudan University\n5              Tsinghua University\nName: School, dtype: object"
     },
     "execution_count": 90,
     "metadata": {},
     "output_type": "execute_result"
    }
   ],
   "source": [
    "df['School'].drop_duplicates() # 在Series上也可以使用"
   ]
  },
  {
   "cell_type": "markdown",
   "metadata": {},
   "source": [
    "此外，`duplicated`和`drop_duplicates`的功能类似，但前者返回了是否为唯一值的布尔列表，其`keep`参数与后者一致。其返回的序列，把重复元素设为`True`，否则为`False`。 `drop_duplicates`等价于把`duplicated`为`True`的对应行剔除。"
   ]
  },
  {
   "cell_type": "code",
   "execution_count": 91,
   "metadata": {
    "ExecuteTime": {
     "start_time": "2023-04-13T08:48:35.315516Z",
     "end_time": "2023-04-13T08:48:36.639757Z"
    }
   },
   "outputs": [
    {
     "data": {
      "text/plain": "0    False\n1    False\n2     True\n3     True\n4     True\ndtype: bool"
     },
     "execution_count": 91,
     "metadata": {},
     "output_type": "execute_result"
    }
   ],
   "source": [
    "df_demo.duplicated(['Gender', 'Transfer']).head()"
   ]
  },
  {
   "cell_type": "code",
   "execution_count": 92,
   "metadata": {
    "ExecuteTime": {
     "start_time": "2023-04-13T08:48:35.331183Z",
     "end_time": "2023-04-13T08:48:36.640757Z"
    }
   },
   "outputs": [
    {
     "data": {
      "text/plain": "0    False\n1    False\n2     True\n3    False\n4     True\nName: School, dtype: bool"
     },
     "execution_count": 92,
     "metadata": {},
     "output_type": "execute_result"
    }
   ],
   "source": [
    "df['School'].duplicated().head() # 在Series上也可以使用"
   ]
  },
  {
   "cell_type": "markdown",
   "metadata": {},
   "source": [
    "##### (4). 替换函数\n",
    "一般而言，替换操作是针对某一个列进行的，因此下面的例子都以`Series`举例。`pandas`中的替换函数可以归纳为三类：映射替换、逻辑替换、数值替换。此处介绍映射替换的`replace`的用法。\n",
    "\n",
    "在`replace`中，可以通过字典构造，或者传入两个列表来进行替换："
   ]
  },
  {
   "cell_type": "code",
   "execution_count": 93,
   "metadata": {
    "ExecuteTime": {
     "start_time": "2023-04-13T08:48:35.347092Z",
     "end_time": "2023-04-13T08:48:36.640757Z"
    }
   },
   "outputs": [
    {
     "data": {
      "text/plain": "0    0\n1    1\n2    1\n3    0\n4    1\nName: Gender, dtype: int64"
     },
     "execution_count": 93,
     "metadata": {},
     "output_type": "execute_result"
    }
   ],
   "source": [
    "df['Gender'].replace({'Female':0, 'Male':1}).head()"
   ]
  },
  {
   "cell_type": "code",
   "execution_count": 94,
   "metadata": {
    "ExecuteTime": {
     "start_time": "2023-04-13T08:48:35.363437Z",
     "end_time": "2023-04-13T08:48:36.640757Z"
    }
   },
   "outputs": [
    {
     "data": {
      "text/plain": "0    0\n1    1\n2    1\n3    0\n4    1\nName: Gender, dtype: int64"
     },
     "execution_count": 94,
     "metadata": {},
     "output_type": "execute_result"
    }
   ],
   "source": [
    "df['Gender'].replace(['Female', 'Male'], [0, 1]).head()"
   ]
  },
  {
   "cell_type": "markdown",
   "metadata": {},
   "source": [
    "另外，`replace`还有一种特殊的方向替换，指定`method`参数为`ffill`则为用前面一个最近的未被替换的值进行替换，`bfill`则使用后面最近的未被替换的值进行替换。从下面的例子可以看到，它们的结果是不同的："
   ]
  },
  {
   "cell_type": "code",
   "execution_count": 95,
   "metadata": {
    "ExecuteTime": {
     "start_time": "2023-04-13T08:48:35.377200Z",
     "end_time": "2023-04-13T08:48:36.640757Z"
    }
   },
   "outputs": [
    {
     "data": {
      "text/plain": "0    a\n1    a\n2    b\n3    b\n4    b\n5    b\n6    a\ndtype: object"
     },
     "execution_count": 95,
     "metadata": {},
     "output_type": "execute_result"
    }
   ],
   "source": [
    "s = pd.Series(['a', 1, 'b', 2, 1, 1, 'a'])\n",
    "s.replace([1, 2], method='ffill')"
   ]
  },
  {
   "cell_type": "code",
   "execution_count": 96,
   "metadata": {
    "ExecuteTime": {
     "start_time": "2023-04-13T08:48:35.392201Z",
     "end_time": "2023-04-13T08:48:36.640757Z"
    }
   },
   "outputs": [
    {
     "data": {
      "text/plain": "0    a\n1    b\n2    b\n3    a\n4    a\n5    a\n6    a\ndtype: object"
     },
     "execution_count": 96,
     "metadata": {},
     "output_type": "execute_result"
    }
   ],
   "source": [
    "s.replace([1, 2], method='bfill')"
   ]
  },
  {
   "cell_type": "markdown",
   "metadata": {},
   "source": [
    "\n",
    "#### 【END】\n",
    "\n",
    "逻辑替换包括了`where`和`mask`，这两个函数是完全对称的：`where`函数在传入条件为`False`的对应行进行替换，而`mask`在传入条件为`True`的对应行进行替换，当不指定替换值时，替换为缺失值。"
   ]
  },
  {
   "cell_type": "code",
   "execution_count": 97,
   "metadata": {
    "ExecuteTime": {
     "start_time": "2023-04-13T08:48:35.407933Z",
     "end_time": "2023-04-13T08:48:36.641969Z"
    }
   },
   "outputs": [
    {
     "data": {
      "text/plain": "0    -1.0\n1     NaN\n2     NaN\n3   -50.0\ndtype: float64"
     },
     "execution_count": 97,
     "metadata": {},
     "output_type": "execute_result"
    }
   ],
   "source": [
    "s = pd.Series([-1, 1.2345, 100, -50])\n",
    "s.where(s<0)"
   ]
  },
  {
   "cell_type": "code",
   "execution_count": 98,
   "metadata": {
    "ExecuteTime": {
     "start_time": "2023-04-13T08:48:35.422914Z",
     "end_time": "2023-04-13T08:48:36.641969Z"
    }
   },
   "outputs": [
    {
     "data": {
      "text/plain": "0     -1.0\n1    100.0\n2    100.0\n3    -50.0\ndtype: float64"
     },
     "execution_count": 98,
     "metadata": {},
     "output_type": "execute_result"
    }
   ],
   "source": [
    "s.where(s<0, 100)"
   ]
  },
  {
   "cell_type": "code",
   "execution_count": 99,
   "metadata": {
    "ExecuteTime": {
     "start_time": "2023-04-13T08:48:35.439704Z",
     "end_time": "2023-04-13T08:48:36.641969Z"
    }
   },
   "outputs": [
    {
     "data": {
      "text/plain": "0         NaN\n1      1.2345\n2    100.0000\n3         NaN\ndtype: float64"
     },
     "execution_count": 99,
     "metadata": {},
     "output_type": "execute_result"
    }
   ],
   "source": [
    "s.mask(s<0)"
   ]
  },
  {
   "cell_type": "code",
   "execution_count": 100,
   "metadata": {
    "ExecuteTime": {
     "start_time": "2023-04-13T08:48:35.455088Z",
     "end_time": "2023-04-13T08:48:36.641969Z"
    }
   },
   "outputs": [
    {
     "data": {
      "text/plain": "0     -1.0000\n1      1.2345\n2    100.0000\n3    -50.0000\ndtype: float64"
     },
     "execution_count": 100,
     "metadata": {},
     "output_type": "execute_result"
    }
   ],
   "source": [
    "s.mask(s<0, -50)\n",
    "s"
   ]
  },
  {
   "cell_type": "markdown",
   "metadata": {},
   "source": [
    "需要注意的是，传入的条件只需是与被调用的`Series`索引一致的布尔序列即可："
   ]
  },
  {
   "cell_type": "code",
   "execution_count": 101,
   "metadata": {
    "ExecuteTime": {
     "start_time": "2023-04-13T08:48:35.470983Z",
     "end_time": "2023-04-13T08:48:36.641969Z"
    }
   },
   "outputs": [
    {
     "data": {
      "text/plain": "0    -50.0000\n1      1.2345\n2    100.0000\n3    -50.0000\ndtype: float64"
     },
     "execution_count": 101,
     "metadata": {},
     "output_type": "execute_result"
    }
   ],
   "source": [
    "s_condition= pd.Series([True,False,False,True],index=s.index)\n",
    "s.mask(s_condition, -50)"
   ]
  },
  {
   "cell_type": "markdown",
   "metadata": {},
   "source": [
    "数值替换包含了`round, abs, clip`方法，它们分别表示按照给定精度四舍五入、取绝对值和截断："
   ]
  },
  {
   "cell_type": "code",
   "execution_count": 102,
   "metadata": {
    "ExecuteTime": {
     "start_time": "2023-04-13T08:48:35.487198Z",
     "end_time": "2023-04-13T08:48:36.642982Z"
    }
   },
   "outputs": [
    {
     "data": {
      "text/plain": "0     -1.00\n1      1.23\n2    100.00\n3    -50.00\ndtype: float64"
     },
     "execution_count": 102,
     "metadata": {},
     "output_type": "execute_result"
    }
   ],
   "source": [
    "s = pd.Series([-1, 1.2345, 100, -50])\n",
    "s.round(2) # 保留两位小数"
   ]
  },
  {
   "cell_type": "code",
   "execution_count": 103,
   "metadata": {
    "ExecuteTime": {
     "start_time": "2023-04-13T08:48:35.503049Z",
     "end_time": "2023-04-13T08:48:36.642982Z"
    }
   },
   "outputs": [
    {
     "data": {
      "text/plain": "0      1.0000\n1      1.2345\n2    100.0000\n3     50.0000\ndtype: float64"
     },
     "execution_count": 103,
     "metadata": {},
     "output_type": "execute_result"
    }
   ],
   "source": [
    "s.abs() # 取绝对值"
   ]
  },
  {
   "cell_type": "code",
   "execution_count": 104,
   "metadata": {
    "ExecuteTime": {
     "start_time": "2023-04-13T08:48:35.519055Z",
     "end_time": "2023-04-13T08:48:36.642982Z"
    }
   },
   "outputs": [
    {
     "data": {
      "text/plain": "0    0.0000\n1    1.2345\n2    2.0000\n3    0.0000\ndtype: float64"
     },
     "execution_count": 104,
     "metadata": {},
     "output_type": "execute_result"
    }
   ],
   "source": [
    "s.clip(0, 2) # 前两个数分别表示上下截断边界"
   ]
  },
  {
   "cell_type": "markdown",
   "metadata": {},
   "source": [
    "在 clip 中，超过边界的只能截断为边界值\n",
    "\n",
    "#### 【END】\n",
    "\n",
    "##### (5). 排序函数\n",
    "排序共有两种方式，其一为值排序，其二为索引排序，对应的函数是`sort_values`和`sort_index`。\n",
    "\n",
    "为了演示排序函数，下面先利用`set_index`方法把年级和姓名两列作为索引"
   ]
  },
  {
   "cell_type": "code",
   "execution_count": 105,
   "metadata": {
    "ExecuteTime": {
     "start_time": "2023-04-13T08:48:35.534894Z",
     "end_time": "2023-04-13T08:48:36.642982Z"
    }
   },
   "outputs": [
    {
     "data": {
      "text/plain": "                          Height  Weight\nGrade     Name                          \nFreshman  Gaopeng Yang     158.9    46.0\n          Changqiang You   166.5    70.0\nSenior    Mei Sun          188.9    89.0\nSophomore Xiaojuan Sun       NaN    41.0\n          Gaojuan You      174.0    74.0\nFreshman  Xiaoli Qian      158.0    51.0\n          Qiang Chu        162.5    52.0\nJunior    Gaoqiang Qian    161.9    50.0\nFreshman  Changli Zhang    163.0    48.0\nJunior    Juan Xu          164.8     NaN",
      "text/html": "<div>\n<style scoped>\n    .dataframe tbody tr th:only-of-type {\n        vertical-align: middle;\n    }\n\n    .dataframe tbody tr th {\n        vertical-align: top;\n    }\n\n    .dataframe thead th {\n        text-align: right;\n    }\n</style>\n<table border=\"1\" class=\"dataframe\">\n  <thead>\n    <tr style=\"text-align: right;\">\n      <th></th>\n      <th></th>\n      <th>Height</th>\n      <th>Weight</th>\n    </tr>\n    <tr>\n      <th>Grade</th>\n      <th>Name</th>\n      <th></th>\n      <th></th>\n    </tr>\n  </thead>\n  <tbody>\n    <tr>\n      <th rowspan=\"2\" valign=\"top\">Freshman</th>\n      <th>Gaopeng Yang</th>\n      <td>158.9</td>\n      <td>46.0</td>\n    </tr>\n    <tr>\n      <th>Changqiang You</th>\n      <td>166.5</td>\n      <td>70.0</td>\n    </tr>\n    <tr>\n      <th>Senior</th>\n      <th>Mei Sun</th>\n      <td>188.9</td>\n      <td>89.0</td>\n    </tr>\n    <tr>\n      <th rowspan=\"2\" valign=\"top\">Sophomore</th>\n      <th>Xiaojuan Sun</th>\n      <td>NaN</td>\n      <td>41.0</td>\n    </tr>\n    <tr>\n      <th>Gaojuan You</th>\n      <td>174.0</td>\n      <td>74.0</td>\n    </tr>\n    <tr>\n      <th rowspan=\"2\" valign=\"top\">Freshman</th>\n      <th>Xiaoli Qian</th>\n      <td>158.0</td>\n      <td>51.0</td>\n    </tr>\n    <tr>\n      <th>Qiang Chu</th>\n      <td>162.5</td>\n      <td>52.0</td>\n    </tr>\n    <tr>\n      <th>Junior</th>\n      <th>Gaoqiang Qian</th>\n      <td>161.9</td>\n      <td>50.0</td>\n    </tr>\n    <tr>\n      <th>Freshman</th>\n      <th>Changli Zhang</th>\n      <td>163.0</td>\n      <td>48.0</td>\n    </tr>\n    <tr>\n      <th>Junior</th>\n      <th>Juan Xu</th>\n      <td>164.8</td>\n      <td>NaN</td>\n    </tr>\n  </tbody>\n</table>\n</div>"
     },
     "execution_count": 105,
     "metadata": {},
     "output_type": "execute_result"
    }
   ],
   "source": [
    "df_demo = df[['Grade', 'Name', 'Height', 'Weight']].set_index(['Grade','Name'])\n",
    "df_demo.head(10)"
   ]
  },
  {
   "cell_type": "markdown",
   "metadata": {},
   "source": [
    "对身高进行排序，默认参数`ascending=True`为升序："
   ]
  },
  {
   "cell_type": "code",
   "execution_count": 106,
   "metadata": {
    "ExecuteTime": {
     "start_time": "2023-04-13T08:48:35.565321Z",
     "end_time": "2023-04-13T08:48:36.643979Z"
    }
   },
   "outputs": [
    {
     "data": {
      "text/plain": "                         Height  Weight\nGrade     Name                         \nJunior    Xiaoli Chu      145.4    34.0\nSenior    Gaomei Lv       147.3    34.0\nSophomore Peng Han        147.8    34.0\nSenior    Changli Lv      148.7    41.0\nSophomore Changjuan You   150.5    40.0",
      "text/html": "<div>\n<style scoped>\n    .dataframe tbody tr th:only-of-type {\n        vertical-align: middle;\n    }\n\n    .dataframe tbody tr th {\n        vertical-align: top;\n    }\n\n    .dataframe thead th {\n        text-align: right;\n    }\n</style>\n<table border=\"1\" class=\"dataframe\">\n  <thead>\n    <tr style=\"text-align: right;\">\n      <th></th>\n      <th></th>\n      <th>Height</th>\n      <th>Weight</th>\n    </tr>\n    <tr>\n      <th>Grade</th>\n      <th>Name</th>\n      <th></th>\n      <th></th>\n    </tr>\n  </thead>\n  <tbody>\n    <tr>\n      <th>Junior</th>\n      <th>Xiaoli Chu</th>\n      <td>145.4</td>\n      <td>34.0</td>\n    </tr>\n    <tr>\n      <th>Senior</th>\n      <th>Gaomei Lv</th>\n      <td>147.3</td>\n      <td>34.0</td>\n    </tr>\n    <tr>\n      <th>Sophomore</th>\n      <th>Peng Han</th>\n      <td>147.8</td>\n      <td>34.0</td>\n    </tr>\n    <tr>\n      <th>Senior</th>\n      <th>Changli Lv</th>\n      <td>148.7</td>\n      <td>41.0</td>\n    </tr>\n    <tr>\n      <th>Sophomore</th>\n      <th>Changjuan You</th>\n      <td>150.5</td>\n      <td>40.0</td>\n    </tr>\n  </tbody>\n</table>\n</div>"
     },
     "execution_count": 106,
     "metadata": {},
     "output_type": "execute_result"
    }
   ],
   "source": [
    "df_demo.sort_values('Height').head()"
   ]
  },
  {
   "cell_type": "code",
   "execution_count": 107,
   "metadata": {
    "ExecuteTime": {
     "start_time": "2023-04-13T08:48:35.580751Z",
     "end_time": "2023-04-13T08:48:36.643979Z"
    }
   },
   "outputs": [
    {
     "data": {
      "text/plain": "                        Height  Weight\nGrade    Name                         \nSenior   Xiaoqiang Qin   193.9    79.0\n         Mei Sun         188.9    89.0\n         Gaoli Zhao      186.5    83.0\nFreshman Qiang Han       185.3    87.0\nSenior   Qiang Zheng     183.9    87.0",
      "text/html": "<div>\n<style scoped>\n    .dataframe tbody tr th:only-of-type {\n        vertical-align: middle;\n    }\n\n    .dataframe tbody tr th {\n        vertical-align: top;\n    }\n\n    .dataframe thead th {\n        text-align: right;\n    }\n</style>\n<table border=\"1\" class=\"dataframe\">\n  <thead>\n    <tr style=\"text-align: right;\">\n      <th></th>\n      <th></th>\n      <th>Height</th>\n      <th>Weight</th>\n    </tr>\n    <tr>\n      <th>Grade</th>\n      <th>Name</th>\n      <th></th>\n      <th></th>\n    </tr>\n  </thead>\n  <tbody>\n    <tr>\n      <th rowspan=\"3\" valign=\"top\">Senior</th>\n      <th>Xiaoqiang Qin</th>\n      <td>193.9</td>\n      <td>79.0</td>\n    </tr>\n    <tr>\n      <th>Mei Sun</th>\n      <td>188.9</td>\n      <td>89.0</td>\n    </tr>\n    <tr>\n      <th>Gaoli Zhao</th>\n      <td>186.5</td>\n      <td>83.0</td>\n    </tr>\n    <tr>\n      <th>Freshman</th>\n      <th>Qiang Han</th>\n      <td>185.3</td>\n      <td>87.0</td>\n    </tr>\n    <tr>\n      <th>Senior</th>\n      <th>Qiang Zheng</th>\n      <td>183.9</td>\n      <td>87.0</td>\n    </tr>\n  </tbody>\n</table>\n</div>"
     },
     "execution_count": 107,
     "metadata": {},
     "output_type": "execute_result"
    }
   ],
   "source": [
    "df_demo.sort_values('Height', ascending=False).head()"
   ]
  },
  {
   "cell_type": "markdown",
   "metadata": {},
   "source": [
    "在排序中，经常遇到多列排序的问题，比如在体重相同的情况下，对身高进行排序，并且保持身高降序排列，体重升序排列："
   ]
  },
  {
   "cell_type": "code",
   "execution_count": 108,
   "metadata": {
    "ExecuteTime": {
     "start_time": "2023-04-13T08:48:35.612460Z",
     "end_time": "2023-04-13T08:48:36.643979Z"
    }
   },
   "outputs": [
    {
     "data": {
      "text/plain": "                       Height  Weight\nGrade     Name                       \nSophomore Peng Han      147.8    34.0\nSenior    Gaomei Lv     147.3    34.0\nJunior    Xiaoli Chu    145.4    34.0\nSophomore Qiang Zhou    150.5    36.0\nFreshman  Yanqiang Xu   152.4    38.0",
      "text/html": "<div>\n<style scoped>\n    .dataframe tbody tr th:only-of-type {\n        vertical-align: middle;\n    }\n\n    .dataframe tbody tr th {\n        vertical-align: top;\n    }\n\n    .dataframe thead th {\n        text-align: right;\n    }\n</style>\n<table border=\"1\" class=\"dataframe\">\n  <thead>\n    <tr style=\"text-align: right;\">\n      <th></th>\n      <th></th>\n      <th>Height</th>\n      <th>Weight</th>\n    </tr>\n    <tr>\n      <th>Grade</th>\n      <th>Name</th>\n      <th></th>\n      <th></th>\n    </tr>\n  </thead>\n  <tbody>\n    <tr>\n      <th>Sophomore</th>\n      <th>Peng Han</th>\n      <td>147.8</td>\n      <td>34.0</td>\n    </tr>\n    <tr>\n      <th>Senior</th>\n      <th>Gaomei Lv</th>\n      <td>147.3</td>\n      <td>34.0</td>\n    </tr>\n    <tr>\n      <th>Junior</th>\n      <th>Xiaoli Chu</th>\n      <td>145.4</td>\n      <td>34.0</td>\n    </tr>\n    <tr>\n      <th>Sophomore</th>\n      <th>Qiang Zhou</th>\n      <td>150.5</td>\n      <td>36.0</td>\n    </tr>\n    <tr>\n      <th>Freshman</th>\n      <th>Yanqiang Xu</th>\n      <td>152.4</td>\n      <td>38.0</td>\n    </tr>\n  </tbody>\n</table>\n</div>"
     },
     "execution_count": 108,
     "metadata": {},
     "output_type": "execute_result"
    }
   ],
   "source": [
    "df_demo.sort_values(['Weight','Height'],ascending=[True,False]).head()"
   ]
  },
  {
   "cell_type": "markdown",
   "metadata": {},
   "source": [
    "索引排序的用法和值排序完全一致，只不过元素的值在索引中，此时需要指定索引层的名字或者层号，用参数`level`表示。另外，需要注意的是字符串的排列顺序由字母顺序决定。"
   ]
  },
  {
   "cell_type": "code",
   "execution_count": 109,
   "metadata": {
    "ExecuteTime": {
     "start_time": "2023-04-13T08:48:35.626994Z",
     "end_time": "2023-04-13T08:48:36.643979Z"
    }
   },
   "outputs": [
    {
     "data": {
      "text/plain": "                        Height  Weight\nGrade    Name                         \nFreshman Yanquan Wang    163.5    55.0\n         Yanqiang Xu     152.4    38.0\n         Yanqiang Feng   162.3    51.0\n         Yanpeng Lv        NaN    65.0\n         Yanli Zhang     165.1    52.0",
      "text/html": "<div>\n<style scoped>\n    .dataframe tbody tr th:only-of-type {\n        vertical-align: middle;\n    }\n\n    .dataframe tbody tr th {\n        vertical-align: top;\n    }\n\n    .dataframe thead th {\n        text-align: right;\n    }\n</style>\n<table border=\"1\" class=\"dataframe\">\n  <thead>\n    <tr style=\"text-align: right;\">\n      <th></th>\n      <th></th>\n      <th>Height</th>\n      <th>Weight</th>\n    </tr>\n    <tr>\n      <th>Grade</th>\n      <th>Name</th>\n      <th></th>\n      <th></th>\n    </tr>\n  </thead>\n  <tbody>\n    <tr>\n      <th rowspan=\"5\" valign=\"top\">Freshman</th>\n      <th>Yanquan Wang</th>\n      <td>163.5</td>\n      <td>55.0</td>\n    </tr>\n    <tr>\n      <th>Yanqiang Xu</th>\n      <td>152.4</td>\n      <td>38.0</td>\n    </tr>\n    <tr>\n      <th>Yanqiang Feng</th>\n      <td>162.3</td>\n      <td>51.0</td>\n    </tr>\n    <tr>\n      <th>Yanpeng Lv</th>\n      <td>NaN</td>\n      <td>65.0</td>\n    </tr>\n    <tr>\n      <th>Yanli Zhang</th>\n      <td>165.1</td>\n      <td>52.0</td>\n    </tr>\n  </tbody>\n</table>\n</div>"
     },
     "execution_count": 109,
     "metadata": {},
     "output_type": "execute_result"
    }
   ],
   "source": [
    "df_demo.sort_index(level=['Grade','Name'],ascending=[True,False]).head()"
   ]
  },
  {
   "cell_type": "markdown",
   "metadata": {},
   "source": [
    "##### (6). apply方法（较难，选读）\n",
    "`apply`方法常用于`DataFrame`的行迭代或者列迭代，它的`axis`含义与第2小节中的统计聚合函数一致，`apply`的参数往往是一个以序列为输入的函数。例如对于`.mean()`，使用`apply`可以如下地写出："
   ]
  },
  {
   "cell_type": "code",
   "execution_count": 110,
   "metadata": {
    "ExecuteTime": {
     "start_time": "2023-04-13T08:48:35.649010Z",
     "end_time": "2023-04-13T08:48:36.643979Z"
    }
   },
   "outputs": [
    {
     "data": {
      "text/plain": "Height    163.218033\nWeight     55.015873\ndtype: float64"
     },
     "execution_count": 110,
     "metadata": {},
     "output_type": "execute_result"
    }
   ],
   "source": [
    "df_demo = df[['Height', 'Weight']]\n",
    "def my_mean(x):\n",
    "     res = x.mean()\n",
    "     return res\n",
    "df_demo.apply(my_mean)"
   ]
  },
  {
   "cell_type": "markdown",
   "metadata": {},
   "source": [
    "同样的，可以利用`lambda`表达式使得书写简洁，这里的`x`就指代被调用的`df_demo`表中逐个输入的序列："
   ]
  },
  {
   "cell_type": "code",
   "execution_count": 111,
   "metadata": {
    "ExecuteTime": {
     "start_time": "2023-04-13T08:48:35.659593Z",
     "end_time": "2023-04-13T08:48:36.644980Z"
    }
   },
   "outputs": [
    {
     "data": {
      "text/plain": "Height    163.218033\nWeight     55.015873\ndtype: float64"
     },
     "execution_count": 111,
     "metadata": {},
     "output_type": "execute_result"
    }
   ],
   "source": [
    "df_demo.apply(lambda x:x.mean())"
   ]
  },
  {
   "cell_type": "markdown",
   "metadata": {},
   "source": [
    "若指定`axis=1`，那么每次传入函数的就是行元素组成的`Series`，其结果与之前的逐行均值结果一致。"
   ]
  },
  {
   "cell_type": "code",
   "execution_count": 112,
   "metadata": {
    "ExecuteTime": {
     "start_time": "2023-04-13T08:48:35.674583Z",
     "end_time": "2023-04-13T08:48:36.644980Z"
    }
   },
   "outputs": [
    {
     "data": {
      "text/plain": "0    102.45\n1    118.25\n2    138.95\n3     41.00\n4    124.00\ndtype: float64"
     },
     "execution_count": 112,
     "metadata": {},
     "output_type": "execute_result"
    }
   ],
   "source": [
    "df_demo.apply(lambda x:x.mean(), axis=1).head()"
   ]
  },
  {
   "cell_type": "markdown",
   "metadata": {},
   "source": [
    "#### 【WARNING】谨慎使用`apply`\n",
    "\n",
    "得益于传入自定义函数的处理，`apply`的自由度很高，但这是以性能为代价的。一般而言，使用`pandas`的内置函数处理和`apply`来处理同一个任务，其速度会相差较多，因此只有在确实存在自定义需求的情境下才考虑使用`apply`。\n",
    "\n",
    "#### 【END】"
   ]
  },
  {
   "cell_type": "markdown",
   "metadata": {},
   "source": [
    "## **三、实验平台**\n",
    "\n",
    "1. 操作系统：Windows10；\n",
    "2. Anaconda 版本：5.3.0； \n",
    "3. Python 版本：3.6.8；\n",
    "4. pandas 版本：版本号不低于1.2.0\n"
   ]
  },
  {
   "cell_type": "markdown",
   "metadata": {},
   "source": [
    "## **四、实验内容**\n",
    "\n",
    "### 口袋妖怪数据集\n",
    "现有一份口袋妖怪的数据集，下面进行一些背景说明：\n",
    "\n",
    "* `#`代表全国图鉴编号，不同行存在相同数字则表示为该妖怪的不同状态\n",
    "\n",
    "* 妖怪具有单属性和双属性两种，对于单属性的妖怪，`Type 2`为缺失值\n",
    "* `Total, HP, Attack, Defense, Sp. Atk, Sp. Def, Speed`分别代表种族值、体力、物攻、防御、特攻、特防、速度，其中种族值为后6项之和\n",
    "* 文件操作代码示例："
   ]
  },
  {
   "cell_type": "code",
   "execution_count": 123,
   "metadata": {
    "scrolled": true,
    "ExecuteTime": {
     "start_time": "2023-04-13T08:49:00.745077Z",
     "end_time": "2023-04-13T08:49:00.827167Z"
    }
   },
   "outputs": [
    {
     "data": {
      "text/plain": "   #       Name Type 1  Type 2  Total  HP  Attack  Defense  Sp. Atk  Sp. Def  \\\n0  1  Bulbasaur  Grass  Poison    318  45      49       49       65       65   \n1  2    Ivysaur  Grass  Poison    405  60      62       63       80       80   \n2  3   Venusaur  Grass  Poison    525  80      82       83      100      100   \n\n   Speed  Generation  Legendary  \n0     45           1      False  \n1     60           1      False  \n2     80           1      False  ",
      "text/html": "<div>\n<style scoped>\n    .dataframe tbody tr th:only-of-type {\n        vertical-align: middle;\n    }\n\n    .dataframe tbody tr th {\n        vertical-align: top;\n    }\n\n    .dataframe thead th {\n        text-align: right;\n    }\n</style>\n<table border=\"1\" class=\"dataframe\">\n  <thead>\n    <tr style=\"text-align: right;\">\n      <th></th>\n      <th>#</th>\n      <th>Name</th>\n      <th>Type 1</th>\n      <th>Type 2</th>\n      <th>Total</th>\n      <th>HP</th>\n      <th>Attack</th>\n      <th>Defense</th>\n      <th>Sp. Atk</th>\n      <th>Sp. Def</th>\n      <th>Speed</th>\n      <th>Generation</th>\n      <th>Legendary</th>\n    </tr>\n  </thead>\n  <tbody>\n    <tr>\n      <th>0</th>\n      <td>1</td>\n      <td>Bulbasaur</td>\n      <td>Grass</td>\n      <td>Poison</td>\n      <td>318</td>\n      <td>45</td>\n      <td>49</td>\n      <td>49</td>\n      <td>65</td>\n      <td>65</td>\n      <td>45</td>\n      <td>1</td>\n      <td>False</td>\n    </tr>\n    <tr>\n      <th>1</th>\n      <td>2</td>\n      <td>Ivysaur</td>\n      <td>Grass</td>\n      <td>Poison</td>\n      <td>405</td>\n      <td>60</td>\n      <td>62</td>\n      <td>63</td>\n      <td>80</td>\n      <td>80</td>\n      <td>60</td>\n      <td>1</td>\n      <td>False</td>\n    </tr>\n    <tr>\n      <th>2</th>\n      <td>3</td>\n      <td>Venusaur</td>\n      <td>Grass</td>\n      <td>Poison</td>\n      <td>525</td>\n      <td>80</td>\n      <td>82</td>\n      <td>83</td>\n      <td>100</td>\n      <td>100</td>\n      <td>80</td>\n      <td>1</td>\n      <td>False</td>\n    </tr>\n  </tbody>\n</table>\n</div>"
     },
     "execution_count": 123,
     "metadata": {},
     "output_type": "execute_result"
    }
   ],
   "source": [
    "df = pd.read_csv('../data/pokemon.csv')\n",
    "df.head(3)"
   ]
  },
  {
   "cell_type": "markdown",
   "metadata": {},
   "source": [
    "**题目内容：**\n",
    "1. 对`HP, Attack, Defense, Sp. Atk, Sp. Def, Speed`进行加总，验证是否有不为`Total`值的数据行存在。\n",
    "\n",
    "2. 对于`#`重复的妖怪只保留第一条记录，解决以下问题：\n",
    "\n",
    ">* 求第一属性的种类数量和前三多数量对应的种类\n",
    ">* 求第一属性和第二属性的组合种类\n",
    ">* 求尚未出现过的属性组合      \n",
    "*PS:可用setA.difference(setB)求取两集合不相交的部分.且如果列有nan值，则默认转换为float类型，可用isinstance(x, float)来识别nan的存在\n",
    "\n",
    "3. 按照下述要求，分别构造三个`pandas`数据结构：\n",
    "\n",
    ">* a.取出物攻，超过120的替换为`high`，不足50的替换为`low`，否则设为`mid`\n",
    ">* b.取出第一属性，用`replace`替换所有字母为大写\n",
    ">* c.求每个妖怪六项能力的离差，即所有能力中偏离中位数(median（）)最大的值，添加到`df`并从大到小排序\n",
    "*PS:str.upper(x)可将字符串转换为大写\n",
    "\n"
   ]
  },
  {
   "cell_type": "code",
   "execution_count": 124,
   "outputs": [
    {
     "name": "stdout",
     "output_type": "stream",
     "text": [
      "所有数据总和都相等\n"
     ]
    }
   ],
   "source": [
    "# 题目一:\n",
    "# 计算六项能力的加总\n",
    "df[\"Sum\"] = df[\"HP\"] + df[\"Attack\"] + df[\"Defense\"] + df[\"Sp. Atk\"] + df[\"Sp. Def\"] + df[\"Speed\"]\n",
    "\n",
    "# 比较加总值和Total值是否相等，返回布尔值\n",
    "df[\"Equal\"] = df[\"Sum\"] == df[\"Total\"]\n",
    "\n",
    "# 查看是否有不相等的数据行，如果有则打印出来\n",
    "if not df[\"Equal\"].all():\n",
    "    print(df[df[\"Equal\"] == False])\n",
    "else:\n",
    "    print(\"所有数据总和都相等\")"
   ],
   "metadata": {
    "collapsed": false,
    "ExecuteTime": {
     "start_time": "2023-04-13T08:49:02.069500Z",
     "end_time": "2023-04-13T08:49:02.097476Z"
    }
   }
  },
  {
   "cell_type": "code",
   "execution_count": 125,
   "outputs": [
    {
     "name": "stdout",
     "output_type": "stream",
     "text": [
      "第一属性的种类数量为:18\n",
      "前三多数量对应的种类:\n",
      "属性：Water           数量：105\n",
      "属性：Normal          数量：93\n",
      "属性：Grass           数量：66\n"
     ]
    }
   ],
   "source": [
    "# 去除重复记录，保留第一条\n",
    "df_2 = df.drop_duplicates([\"#\"], keep=\"first\")\n",
    "\n",
    "# 求第一属性的种类数量和前三多数量对应的种类\n",
    "type1_count = df_2[\"Type 1\"].value_counts()\n",
    "print(\"第一属性的种类数量为:\"+str(type1_count.count()))\n",
    "print(\"前三多数量对应的种类:\")\n",
    "for i in range(3):\n",
    "    print(\"属性：{:<12}    数量：{}\".format(type1_count.index[i],type1_count.iloc[i]))\n"
   ],
   "metadata": {
    "collapsed": false,
    "ExecuteTime": {
     "start_time": "2023-04-13T08:49:03.058662Z",
     "end_time": "2023-04-13T08:49:03.126558Z"
    }
   }
  },
  {
   "cell_type": "code",
   "execution_count": 116,
   "outputs": [
    {
     "name": "stdout",
     "output_type": "stream",
     "text": [
      "第1种组合为: ('Water', 'Dragon')\n",
      "第2种组合为: ('Ground', 'Ghost')\n",
      "第3种组合为: ('Rock', 'Grass')\n",
      "第4种组合为: ('Dark', 'Flying')\n",
      "第5种组合为: ('Electric', 'Ghost')\n",
      "第6种组合为: ('Grass', 'Dark')\n",
      "第7种组合为: ('Water', 'Electric')\n",
      "第8种组合为: ('Poison', 'Fighting')\n",
      "第9种组合为: ('Dragon', 'Psychic')\n",
      "第10种组合为: ('Bug', 'Rock')\n",
      "第11种组合为: ('Rock', 'Flying')\n",
      "第12种组合为: ('Bug', 'Steel')\n",
      "第13种组合为: ('Bug', 'Poison')\n",
      "第14种组合为: ('Fire', 'Rock')\n",
      "第15种组合为: ('Fire', 'Steel')\n",
      "第16种组合为: ('Rock', 'Fairy')\n",
      "第17种组合为: ('Ground', 'Dragon')\n",
      "第18种组合为: ('Water', 'Fighting')\n",
      "第19种组合为: ('Poison', 'Dragon')\n",
      "第20种组合为: ('Grass', 'Fighting')\n",
      "第21种组合为: ('Ground', 'Electric')\n",
      "第22种组合为: ('Bug', 'Ground')\n",
      "第23种组合为: ('Rock', 'Dark')\n",
      "第24种组合为: ('Flying', 'Dragon')\n",
      "第25种组合为: ('Dragon', 'Flying')\n",
      "第26种组合为: ('Ice', 'Water')\n",
      "第27种组合为: ('Ghost', 'Poison')\n",
      "第28种组合为: ('Dark', 'Steel')\n",
      "第29种组合为: ('Fire', 'Ground')\n",
      "第30种组合为: ('Ice', 'Psychic')\n",
      "第31种组合为: ('Dark', 'Ghost')\n",
      "第32种组合为: ('Dragon', 'Ice')\n",
      "第33种组合为: ('Rock', 'Steel')\n",
      "第34种组合为: ('Steel', 'Psychic')\n",
      "第35种组合为: ('Ground', 'Psychic')\n",
      "第36种组合为: ('Psychic', 'Grass')\n",
      "第37种组合为: ('Fighting', 'Psychic')\n",
      "第38种组合为: ('Normal', 'Water')\n",
      "第39种组合为: ('Bug', 'Ghost')\n",
      "第40种组合为: ('Bug', 'Fighting')\n",
      "第41种组合为: ('Ghost', 'Dark')\n",
      "第42种组合为: ('Psychic', 'Flying')\n",
      "第43种组合为: ('Dark', 'Dragon')\n",
      "第44种组合为: ('Normal', 'Psychic')\n",
      "第45种组合为: ('Electric', 'Normal')\n",
      "第46种组合为: ('Rock', 'Ground')\n",
      "第47种组合为: ('Ice', 'Flying')\n",
      "第48种组合为: ('Dark', 'Fire')\n",
      "第49种组合为: ('Water', 'Ice')\n",
      "第50种组合为: ('Fire', 'Fighting')\n",
      "第51种组合为: ('Steel', 'Flying')\n",
      "第52种组合为: ('Rock', 'Dragon')\n",
      "第53种组合为: ('Water', 'Psychic')\n",
      "第54种组合为: ('Psychic', 'Fairy')\n",
      "第55种组合为: ('Grass', 'Psychic')\n",
      "第56种组合为: ('Ground', 'Flying')\n",
      "第57种组合为: ('Normal', 'Grass')\n",
      "第58种组合为: ('Fighting', 'Flying')\n",
      "第59种组合为: ('Poison', 'Flying')\n",
      "第60种组合为: ('Bug', 'Fire')\n",
      "第61种组合为: ('Steel', 'Fairy')\n",
      "第62种组合为: ('Rock', 'Bug')\n",
      "第63种组合为: ('Bug', 'Electric')\n",
      "第64种组合为: ('Dark', 'Fighting')\n",
      "第65种组合为: ('Fire', 'Normal')\n",
      "第66种组合为: ('Dragon', 'Ground')\n",
      "第67种组合为: ('Normal', 'Flying')\n",
      "第68种组合为: ('Water', 'Grass')\n",
      "第69种组合为: ('Poison', 'Water')\n",
      "第70种组合为: ('Water', 'Poison')\n",
      "第71种组合为: ('Rock', 'Fighting')\n",
      "第72种组合为: ('Water', 'Flying')\n",
      "第73种组合为: ('Normal', 'Fairy')\n",
      "第74种组合为: ('Grass', 'Flying')\n",
      "第75种组合为: ('Ghost', 'Dragon')\n",
      "第76种组合为: ('Psychic', 'Ghost')\n",
      "第77种组合为: ('Ghost', 'Fire')\n",
      "第78种组合为: ('Steel', 'Rock')\n",
      "第79种组合为: ('Water', 'Fairy')\n",
      "第80种组合为: ('Grass', 'Fairy')\n",
      "第81种组合为: ('Fire', 'Water')\n",
      "第82种组合为: ('Ground', 'Rock')\n",
      "第83种组合为: ('Steel', 'Ghost')\n",
      "第84种组合为: ('Grass', 'Ice')\n",
      "第85种组合为: ('Ground', 'Steel')\n",
      "第86种组合为: ('Fighting', 'Steel')\n",
      "第87种组合为: ('Water', 'Dark')\n",
      "第88种组合为: ('Fairy', 'Flying')\n",
      "第89种组合为: ('Fire', 'Psychic')\n",
      "第90种组合为: ('Ice', 'Ground')\n",
      "第91种组合为: ('Electric', 'Flying')\n",
      "第92种组合为: ('Bug', 'Grass')\n",
      "第93种组合为: ('Steel', 'Ground')\n",
      "第94种组合为: ('Psychic', 'Fire')\n",
      "第95种组合为: ('Electric', 'Fairy')\n",
      "第96种组合为: ('Dark', 'Ice')\n",
      "第97种组合为: ('Water', 'Rock')\n",
      "第98种组合为: ('Bug', 'Flying')\n",
      "第99种组合为: ('Water', 'Steel')\n",
      "第100种组合为: ('Steel', 'Dragon')\n",
      "第101种组合为: ('Poison', 'Ground')\n",
      "第102种组合为: ('Dark', 'Psychic')\n",
      "第103种组合为: ('Rock', 'Water')\n",
      "第104种组合为: ('Grass', 'Steel')\n",
      "第105种组合为: ('Water', 'Ghost')\n",
      "第106种组合为: ('Ground', 'Dark')\n",
      "第107种组合为: ('Grass', 'Poison')\n",
      "第108种组合为: ('Rock', 'Ice')\n",
      "第109种组合为: ('Dragon', 'Fire')\n",
      "第110种组合为: ('Fighting', 'Dark')\n",
      "第111种组合为: ('Bug', 'Water')\n",
      "第112种组合为: ('Fire', 'Flying')\n",
      "第113种组合为: ('Poison', 'Dark')\n",
      "第114种组合为: ('Dragon', 'Electric')\n",
      "第115种组合为: ('Normal', 'Ground')\n",
      "第116种组合为: ('Rock', 'Psychic')\n",
      "第117种组合为: ('Ghost', 'Grass')\n",
      "第118种组合为: ('Psychic', 'Fighting')\n",
      "第119种组合为: ('Ice', 'Ghost')\n",
      "第120种组合为: ('Water', 'Ground')\n",
      "第121种组合为: ('Poison', 'Bug')\n",
      "第122种组合为: ('Grass', 'Ground')\n",
      "第123种组合为: ('Ghost', 'Flying')\n",
      "第124种组合为: ('Steel', 'Fighting')\n",
      "第125种组合为: ('Electric', 'Steel')\n"
     ]
    }
   ],
   "source": [
    "# 求第一属性和第二属性的组合种类\n",
    "df_2_sub=df_2[['Type 1','Type 2']]\n",
    "type_combination = set(df_2_sub[~df_2_sub[\"Type 2\"].isnull()][[\"Type 1\", \"Type 2\"]].apply(tuple, axis=1))\n",
    "for i,j in enumerate(type_combination):\n",
    "    print(\"第{0}种组合为: {1}\".format(i+1,j))"
   ],
   "metadata": {
    "collapsed": false,
    "ExecuteTime": {
     "start_time": "2023-04-13T08:48:35.768085Z",
     "end_time": "2023-04-13T08:48:36.645980Z"
    }
   }
  },
  {
   "cell_type": "code",
   "execution_count": 126,
   "outputs": [
    {
     "name": "stdout",
     "output_type": "stream",
     "text": [
      "第1种组合为: ('Grass', 'Poison')\n",
      "第2种组合为: ('Fire', 'Flying')\n",
      "第3种组合为: ('Bug', 'Flying')\n",
      "第4种组合为: ('Bug', 'Poison')\n",
      "第5种组合为: ('Normal', 'Flying')\n",
      "第6种组合为: ('Poison', 'Ground')\n",
      "第7种组合为: ('Normal', 'Fairy')\n",
      "第8种组合为: ('Poison', 'Flying')\n",
      "第9种组合为: ('Bug', 'Grass')\n",
      "第10种组合为: ('Water', 'Fighting')\n",
      "第11种组合为: ('Water', 'Poison')\n",
      "第12种组合为: ('Rock', 'Ground')\n",
      "第13种组合为: ('Water', 'Psychic')\n",
      "第14种组合为: ('Electric', 'Steel')\n",
      "第15种组合为: ('Water', 'Ice')\n",
      "第16种组合为: ('Ghost', 'Poison')\n",
      "第17种组合为: ('Grass', 'Psychic')\n",
      "第18种组合为: ('Ground', 'Rock')\n",
      "第19种组合为: ('Psychic', 'Fairy')\n",
      "第20种组合为: ('Ice', 'Psychic')\n",
      "第21种组合为: ('Water', 'Flying')\n",
      "第22种组合为: ('Rock', 'Water')\n",
      "第23种组合为: ('Rock', 'Flying')\n",
      "第24种组合为: ('Ice', 'Flying')\n",
      "第25种组合为: ('Electric', 'Flying')\n",
      "第26种组合为: ('Dragon', 'Flying')\n",
      "第27种组合为: ('Water', 'Electric')\n",
      "第28种组合为: ('Fairy', 'Flying')\n",
      "第29种组合为: ('Psychic', 'Flying')\n",
      "第30种组合为: ('Water', 'Fairy')\n",
      "第31种组合为: ('Grass', 'Flying')\n",
      "第32种组合为: ('Water', 'Ground')\n",
      "第33种组合为: ('Dark', 'Flying')\n",
      "第34种组合为: ('Normal', 'Psychic')\n",
      "第35种组合为: ('Bug', 'Steel')\n",
      "第36种组合为: ('Ground', 'Flying')\n",
      "第37种组合为: ('Steel', 'Ground')\n",
      "第38种组合为: ('Bug', 'Rock')\n",
      "第39种组合为: ('Bug', 'Fighting')\n",
      "第40种组合为: ('Dark', 'Ice')\n",
      "第41种组合为: ('Fire', 'Rock')\n",
      "第42种组合为: ('Ice', 'Ground')\n",
      "第43种组合为: ('Water', 'Rock')\n",
      "第44种组合为: ('Steel', 'Flying')\n",
      "第45种组合为: ('Dark', 'Fire')\n",
      "第46种组合为: ('Water', 'Dragon')\n",
      "第47种组合为: ('Rock', 'Dark')\n",
      "第48种组合为: ('Psychic', 'Grass')\n",
      "第49种组合为: ('Fire', 'Fighting')\n",
      "第50种组合为: ('Water', 'Grass')\n",
      "第51种组合为: ('Grass', 'Dark')\n",
      "第52种组合为: ('Bug', 'Water')\n",
      "第53种组合为: ('Grass', 'Fighting')\n",
      "第54种组合为: ('Bug', 'Ground')\n",
      "第55种组合为: ('Bug', 'Ghost')\n",
      "第56种组合为: ('Dark', 'Ghost')\n",
      "第57种组合为: ('Steel', 'Fairy')\n",
      "第58种组合为: ('Steel', 'Rock')\n",
      "第59种组合为: ('Fighting', 'Psychic')\n",
      "第60种组合为: ('Water', 'Dark')\n",
      "第61种组合为: ('Fire', 'Ground')\n",
      "第62种组合为: ('Ground', 'Dragon')\n",
      "第63种组合为: ('Rock', 'Psychic')\n",
      "第64种组合为: ('Ground', 'Psychic')\n",
      "第65种组合为: ('Rock', 'Grass')\n",
      "第66种组合为: ('Rock', 'Bug')\n",
      "第67种组合为: ('Ice', 'Water')\n",
      "第68种组合为: ('Steel', 'Psychic')\n",
      "第69种组合为: ('Dragon', 'Psychic')\n",
      "第70种组合为: ('Grass', 'Ground')\n",
      "第71种组合为: ('Water', 'Steel')\n",
      "第72种组合为: ('Normal', 'Water')\n",
      "第73种组合为: ('Rock', 'Steel')\n",
      "第74种组合为: ('Ghost', 'Flying')\n",
      "第75种组合为: ('Poison', 'Dark')\n",
      "第76种组合为: ('Ghost', 'Dark')\n",
      "第77种组合为: ('Dragon', 'Ground')\n",
      "第78种组合为: ('Fighting', 'Steel')\n",
      "第79种组合为: ('Poison', 'Bug')\n",
      "第80种组合为: ('Poison', 'Fighting')\n",
      "第81种组合为: ('Grass', 'Ice')\n",
      "第82种组合为: ('Psychic', 'Fighting')\n",
      "第83种组合为: ('Ice', 'Ghost')\n",
      "第84种组合为: ('Electric', 'Ghost')\n",
      "第85种组合为: ('Steel', 'Dragon')\n",
      "第86种组合为: ('Fire', 'Steel')\n",
      "第87种组合为: ('Ghost', 'Dragon')\n",
      "第88种组合为: ('Psychic', 'Fire')\n",
      "第89种组合为: ('Ground', 'Steel')\n",
      "第90种组合为: ('Grass', 'Fairy')\n",
      "第91种组合为: ('Ground', 'Dark')\n",
      "第92种组合为: ('Dark', 'Fighting')\n",
      "第93种组合为: ('Normal', 'Grass')\n",
      "第94种组合为: ('Water', 'Ghost')\n",
      "第95种组合为: ('Bug', 'Electric')\n",
      "第96种组合为: ('Grass', 'Steel')\n",
      "第97种组合为: ('Ghost', 'Fire')\n",
      "第98种组合为: ('Ground', 'Electric')\n",
      "第99种组合为: ('Ground', 'Ghost')\n",
      "第100种组合为: ('Dark', 'Steel')\n",
      "第101种组合为: ('Dark', 'Dragon')\n",
      "第102种组合为: ('Bug', 'Fire')\n",
      "第103种组合为: ('Steel', 'Fighting')\n",
      "第104种组合为: ('Rock', 'Fighting')\n",
      "第105种组合为: ('Dragon', 'Fire')\n",
      "第106种组合为: ('Dragon', 'Electric')\n",
      "第107种组合为: ('Dragon', 'Ice')\n",
      "第108种组合为: ('Fire', 'Psychic')\n",
      "第109种组合为: ('Normal', 'Ground')\n",
      "第110种组合为: ('Fire', 'Normal')\n",
      "第111种组合为: ('Fighting', 'Dark')\n",
      "第112种组合为: ('Steel', 'Ghost')\n",
      "第113种组合为: ('Dark', 'Psychic')\n",
      "第114种组合为: ('Poison', 'Water')\n",
      "第115种组合为: ('Poison', 'Dragon')\n",
      "第116种组合为: ('Electric', 'Normal')\n",
      "第117种组合为: ('Rock', 'Dragon')\n",
      "第118种组合为: ('Rock', 'Ice')\n",
      "第119种组合为: ('Fighting', 'Flying')\n",
      "第120种组合为: ('Electric', 'Fairy')\n",
      "第121种组合为: ('Rock', 'Fairy')\n",
      "第122种组合为: ('Ghost', 'Grass')\n",
      "第123种组合为: ('Flying', 'Dragon')\n",
      "第124种组合为: ('Psychic', 'Ghost')\n",
      "第125种组合为: ('Fire', 'Water')\n"
     ]
    }
   ],
   "source": [
    "# 获取对应的属性值\n",
    "df_2_sub=df_2[['Type 1','Type 2']]\n",
    "# 进行清洗和属性的组合操作\n",
    "type_combination=df_2_sub.dropna().drop_duplicates(['Type 1','Type 2'])\n",
    "type_combination=type_combination.apply(tuple,axis=1)\n",
    "for i,j in enumerate(type_combination):\n",
    "    print(\"第{0}种组合为: {1}\".format(i+1,j))"
   ],
   "metadata": {
    "collapsed": false,
    "ExecuteTime": {
     "start_time": "2023-04-13T08:49:22.348187Z",
     "end_time": "2023-04-13T08:49:22.438401Z"
    }
   }
  },
  {
   "cell_type": "code",
   "execution_count": 127,
   "outputs": [
    {
     "name": "stdout",
     "output_type": "stream",
     "text": [
      "第1种组合为: ('Dark', 'Poison')\n",
      "第2种组合为: ('Flying', 'Bug')\n",
      "第3种组合为: ('Poison', 'Ghost')\n",
      "第4种组合为: ('Rock', 'Poison')\n",
      "第5种组合为: ('Ghost', 'Fairy')\n",
      "第6种组合为: ('Water', 'Bug')\n",
      "第7种组合为: ('Normal', 'Ghost')\n",
      "第8种组合为: ('Dark', 'Fairy')\n",
      "第9种组合为: ('Grass', 'Bug')\n",
      "第10种组合为: ('Flying', 'Fighting')\n",
      "第11种组合为: ('Electric', 'Ground')\n",
      "第12种组合为: ('Fairy', 'Dark')\n",
      "第13种组合为: ('Fire', 'Poison')\n",
      "第14种组合为: ('Fighting', 'Normal')\n",
      "第15种组合为: ('Dragon', 'Grass')\n",
      "第16种组合为: ('Fighting', 'Dragon')\n",
      "第17种组合为: ('Fighting', 'Fire')\n",
      "第18种组合为: ('Fighting', 'Electric')\n",
      "第19种组合为: ('Flying', 'Normal')\n",
      "第20种组合为: ('Ghost', 'Steel')\n",
      "第21种组合为: ('Electric', 'Bug')\n",
      "第22种组合为: ('Flying', 'Fire')\n",
      "第23种组合为: ('Bug', 'Dark')\n",
      "第24种组合为: ('Flying', 'Electric')\n",
      "第25种组合为: ('Dragon', 'Water')\n",
      "第26种组合为: ('Grass', 'Normal')\n",
      "第27种组合为: ('Fairy', 'Fighting')\n",
      "第28种组合为: ('Grass', 'Dragon')\n",
      "第29种组合为: ('Fire', 'Dark')\n",
      "第30种组合为: ('Electric', 'Fighting')\n",
      "第31种组合为: ('Fighting', 'Water')\n",
      "第32种组合为: ('Grass', 'Fire')\n",
      "第33种组合为: ('Grass', 'Electric')\n",
      "第34种组合为: ('Fire', 'Bug')\n",
      "第35种组合为: ('Ice', 'Grass')\n",
      "第36种组合为: ('Fairy', 'Normal')\n",
      "第37种组合为: ('Dark', 'Normal')\n",
      "第38种组合为: ('Steel', 'Grass')\n",
      "第39种组合为: ('Fairy', 'Dragon')\n",
      "第40种组合为: ('Flying', 'Psychic')\n",
      "第41种组合为: ('Fairy', 'Fire')\n",
      "第42种组合为: ('Ground', 'Grass')\n",
      "第43种组合为: ('Grass', 'Water')\n",
      "第44种组合为: ('Dragon', 'Rock')\n",
      "第45种组合为: ('Fairy', 'Electric')\n",
      "第46种组合为: ('Dark', 'Electric')\n",
      "第47种组合为: ('Rock', 'Normal')\n",
      "第48种组合为: ('Dragon', 'Poison')\n",
      "第49种组合为: ('Poison', 'Grass')\n",
      "第50种组合为: ('Psychic', 'Ice')\n",
      "第51种组合为: ('Rock', 'Fire')\n",
      "第52种组合为: ('Bug', 'Normal')\n",
      "第53种组合为: ('Bug', 'Dragon')\n",
      "第54种组合为: ('Rock', 'Electric')\n",
      "第55种组合为: ('Ground', 'Water')\n",
      "第56种组合为: ('Fire', 'Dragon')\n",
      "第57种组合为: ('Electric', 'Water')\n",
      "第58种组合为: ('Ground', 'Ice')\n",
      "第59种组合为: ('Fighting', 'Fairy')\n",
      "第60种组合为: ('Electric', 'Ice')\n",
      "第61种组合为: ('Fire', 'Electric')\n",
      "第62种组合为: ('Poison', 'Ice')\n",
      "第63种组合为: ('Dragon', 'Dark')\n",
      "第64种组合为: ('Electric', 'Psychic')\n",
      "第65种组合为: ('Flying', 'Fairy')\n",
      "第66种组合为: ('Psychic', 'Rock')\n",
      "第67种组合为: ('Poison', 'Psychic')\n",
      "第68种组合为: ('Normal', 'Ice')\n",
      "第69种组合为: ('Ice', 'Rock')\n",
      "第70种组合为: ('Dragon', 'Bug')\n",
      "第71种组合为: ('Ground', 'Poison')\n",
      "第72种组合为: ('Poison', 'Rock')\n",
      "第73种组合为: ('Electric', 'Poison')\n",
      "第74种组合为: ('Psychic', 'Ground')\n",
      "第75种组合为: ('Dragon', 'Fighting')\n",
      "第76种组合为: ('Normal', 'Rock')\n",
      "第77种组合为: ('Flying', 'Steel')\n",
      "第78种组合为: ('Normal', 'Poison')\n",
      "第79种组合为: ('Ice', 'Dark')\n",
      "第80种组合为: ('Psychic', 'Bug')\n",
      "第81种组合为: ('Dragon', 'Normal')\n",
      "第82种组合为: ('Ice', 'Bug')\n",
      "第83种组合为: ('Electric', 'Dark')\n",
      "第84种组合为: ('Bug', 'Fairy')\n",
      "第85种组合为: ('Steel', 'Bug')\n",
      "第86种组合为: ('Ground', 'Bug')\n",
      "第87种组合为: ('Normal', 'Dark')\n",
      "第88种组合为: ('Ice', 'Fighting')\n",
      "第89种组合为: ('Fairy', 'Grass')\n",
      "第90种组合为: ('Dark', 'Grass')\n",
      "第91种组合为: ('Fire', 'Fairy')\n",
      "第92种组合为: ('Fairy', 'Steel')\n",
      "第93种组合为: ('Water', 'Normal')\n",
      "第94种组合为: ('Normal', 'Bug')\n",
      "第95种组合为: ('Ground', 'Fighting')\n",
      "第96种组合为: ('Fighting', 'Ghost')\n",
      "第97种组合为: ('Water', 'Fire')\n",
      "第98种组合为: ('Psychic', 'Normal')\n",
      "第99种组合为: ('Psychic', 'Dragon')\n",
      "第100种组合为: ('Ice', 'Normal')\n",
      "第101种组合为: ('Ghost', 'Ice')\n",
      "第102种组合为: ('Ice', 'Dragon')\n",
      "第103种组合为: ('Flying', 'Ghost')\n",
      "第104种组合为: ('Ice', 'Fire')\n",
      "第105种组合为: ('Normal', 'Fighting')\n",
      "第106种组合为: ('Ice', 'Electric')\n",
      "第107种组合为: ('Ground', 'Normal')\n",
      "第108种组合为: ('Electric', 'Dragon')\n",
      "第109种组合为: ('Grass', 'Ghost')\n",
      "第110种组合为: ('Ground', 'Fire')\n",
      "第111种组合为: ('Poison', 'Normal')\n",
      "第112种组合为: ('Electric', 'Fire')\n",
      "第113种组合为: ('Poison', 'Fire')\n",
      "第114种组合为: ('Psychic', 'Water')\n",
      "第115种组合为: ('Poison', 'Electric')\n",
      "第116种组合为: ('Ghost', 'Rock')\n",
      "第117种组合为: ('Normal', 'Dragon')\n",
      "第118种组合为: ('Normal', 'Fire')\n",
      "第119种组合为: ('Dark', 'Rock')\n",
      "第120种组合为: ('Normal', 'Electric')\n",
      "第121种组合为: ('Steel', 'Water')\n",
      "第122种组合为: ('Fairy', 'Ghost')\n",
      "第123种组合为: ('Steel', 'Ice')\n",
      "第124种组合为: ('Dragon', 'Fairy')\n",
      "第125种组合为: ('Rock', 'Ghost')\n",
      "第126种组合为: ('Ghost', 'Ground')\n",
      "第127种组合为: ('Fairy', 'Ground')\n",
      "第128种组合为: ('Dark', 'Ground')\n",
      "第129种组合为: ('Psychic', 'Poison')\n",
      "第130种组合为: ('Ice', 'Poison')\n",
      "第131种组合为: ('Fire', 'Ghost')\n",
      "第132种组合为: ('Steel', 'Poison')\n",
      "第133种组合为: ('Ghost', 'Bug')\n",
      "第134种组合为: ('Dragon', 'Steel')\n",
      "第135种组合为: ('Fighting', 'Grass')\n",
      "第136种组合为: ('Fairy', 'Bug')\n",
      "第137种组合为: ('Dark', 'Bug')\n",
      "第138种组合为: ('Ice', 'Fairy')\n",
      "第139种组合为: ('Flying', 'Grass')\n",
      "第140种组合为: ('Ghost', 'Fighting')\n",
      "第141种组合为: ('Psychic', 'Dark')\n",
      "第142种组合为: ('Ground', 'Fairy')\n",
      "第143种组合为: ('Poison', 'Fairy')\n",
      "第144种组合为: ('Fighting', 'Ice')\n",
      "第145种组合为: ('Steel', 'Dark')\n",
      "第146种组合为: ('Flying', 'Water')\n",
      "第147种组合为: ('Psychic', 'Steel')\n",
      "第148种组合为: ('Ghost', 'Normal')\n",
      "第149种组合为: ('Flying', 'Ice')\n",
      "第150种组合为: ('Ice', 'Steel')\n",
      "第151种组合为: ('Ghost', 'Electric')\n",
      "第152种组合为: ('Electric', 'Grass')\n",
      "第153种组合为: ('Fighting', 'Rock')\n",
      "第154种组合为: ('Dragon', 'Ghost')\n",
      "第155种组合为: ('Fighting', 'Poison')\n",
      "第156种组合为: ('Poison', 'Steel')\n",
      "第157种组合为: ('Flying', 'Rock')\n",
      "第158种组合为: ('Ghost', 'Water')\n",
      "第159种组合为: ('Normal', 'Steel')\n",
      "第160种组合为: ('Flying', 'Poison')\n",
      "第161种组合为: ('Fairy', 'Water')\n",
      "第162种组合为: ('Dark', 'Water')\n",
      "第163种组合为: ('Fairy', 'Ice')\n",
      "第164种组合为: ('Psychic', 'Electric')\n",
      "第165种组合为: ('Ghost', 'Psychic')\n",
      "第166种组合为: ('Steel', 'Normal')\n",
      "第167种组合为: ('Fire', 'Grass')\n",
      "第168种组合为: ('Fighting', 'Ground')\n",
      "第169种组合为: ('Grass', 'Rock')\n",
      "第170种组合为: ('Fairy', 'Psychic')\n",
      "第171种组合为: ('Steel', 'Fire')\n",
      "第172种组合为: ('Steel', 'Electric')\n",
      "第173种组合为: ('Flying', 'Ground')\n",
      "第174种组合为: ('Bug', 'Ice')\n",
      "第175种组合为: ('Flying', 'Dark')\n",
      "第176种组合为: ('Bug', 'Psychic')\n",
      "第177种组合为: ('Fighting', 'Bug')\n",
      "第178种组合为: ('Fairy', 'Rock')\n",
      "第179种组合为: ('Fire', 'Ice')\n",
      "第180种组合为: ('Electric', 'Rock')\n",
      "第181种组合为: ('Fairy', 'Poison')\n"
     ]
    }
   ],
   "source": [
    "# 求尚未出现过的属性组合\n",
    "# 将Type 1和Type 2中所有出现过的属性放到一个set中\n",
    "type_set = set(df_2[\"Type 1\"]) | set(df_2[\"Type 2\"].dropna())\n",
    "type_all_combination = set()\n",
    "# 将互异的属性值进行两两组合\n",
    "for t1 in type_set:\n",
    "    for t2 in type_set:\n",
    "        # 第一属性和第二属性不同\n",
    "        if t1 != t2:\n",
    "            type_all_combination.add(tuple([t1,t2]))\n",
    "#   取出互异的元素\n",
    "type_not_appear = type_all_combination.difference(type_combination)\n",
    "for i,j in enumerate(type_not_appear):\n",
    "    print(\"第{0}种组合为: {1}\".format(i+1,j))\n"
   ],
   "metadata": {
    "collapsed": false,
    "ExecuteTime": {
     "start_time": "2023-04-13T08:51:26.557417Z",
     "end_time": "2023-04-13T08:51:26.600300Z"
    }
   }
  },
  {
   "cell_type": "code",
   "execution_count": 119,
   "outputs": [
    {
     "data": {
      "text/plain": "0       low\n1       mid\n2       mid\n3       mid\n4       mid\n       ... \n795     mid\n796    high\n797     mid\n798    high\n799     mid\nName: Attack, Length: 800, dtype: object"
     },
     "execution_count": 119,
     "metadata": {},
     "output_type": "execute_result"
    }
   ],
   "source": [
    "# 取出物攻，超过120的替换为high，不足50的替换为low，否则设为mid\n",
    "def helper_func(x):\n",
    "    if x>120:\n",
    "        return \"high\"\n",
    "    elif x<50:\n",
    "        return \"low\"\n",
    "    else:\n",
    "        return \"mid\"\n",
    "\n",
    "df_3=df['Attack'].apply(helper_func)\n",
    "df_copy=df\n",
    "df_copy['Attack']=df_3\n",
    "df_3"
   ],
   "metadata": {
    "collapsed": false,
    "ExecuteTime": {
     "start_time": "2023-04-13T08:48:35.816699Z",
     "end_time": "2023-04-13T08:48:36.645980Z"
    }
   }
  },
  {
   "cell_type": "code",
   "execution_count": 120,
   "outputs": [
    {
     "data": {
      "text/plain": "0        GRASS\n1        GRASS\n2        GRASS\n3        GRASS\n4         FIRE\n        ...   \n795       ROCK\n796       ROCK\n797    PSYCHIC\n798    PSYCHIC\n799       FIRE\nName: Type 1, Length: 800, dtype: object"
     },
     "execution_count": 120,
     "metadata": {},
     "output_type": "execute_result"
    }
   ],
   "source": [
    "# 取出第一属性，用replace替换所有字母为大写\n",
    "type_1_upper = df[\"Type 1\"].str.upper()\n",
    "dictionary=dict(zip(df[\"Type 1\"],type_1_upper))\n",
    "type1=df[\"Type 1\"]\n",
    "type1=type1.replace(dictionary)\n",
    "type1\n",
    "# df_copy['Type 1'].replace(type_1_upper)\n",
    "# df_copy"
   ],
   "metadata": {
    "collapsed": false,
    "ExecuteTime": {
     "start_time": "2023-04-13T08:48:35.830380Z",
     "end_time": "2023-04-13T08:48:36.646977Z"
    }
   }
  },
  {
   "cell_type": "code",
   "execution_count": 121,
   "outputs": [
    {
     "name": "stderr",
     "output_type": "stream",
     "text": [
      "C:\\Users\\50207\\AppData\\Local\\Temp\\ipykernel_19744\\1523131520.py:4: FutureWarning: The default value of numeric_only in DataFrame.median is deprecated. In a future version, it will default to False. In addition, specifying 'numeric_only=None' is deprecated. Select only valid columns or specify the value of numeric_only to silence this warning.\n",
      "  median = df[stats].median()\n"
     ]
    },
    {
     "data": {
      "text/plain": "       #                 Name  Type 1  Type 2  Total   HP Attack  Defense  \\\n261  242              Blissey  Normal     NaN    540  255    low       10   \n121  113              Chansey  Normal     NaN    450  250    low        5   \n230  213              Shuckle     Bug    Rock    505   20    low      230   \n333  306    AggronMega Aggron   Steel     NaN    630   70   high      230   \n224  208  SteelixMega Steelix   Steel  Ground    610   75   high      230   \n..   ...                  ...     ...     ...    ...  ...    ...      ...   \n10     8            Wartortle   Water     NaN    405   59    mid       80   \n173  159             Croconaw   Water     NaN    405   65    mid       80   \n695  634             Zweilous    Dark  Dragon    420   72    mid       70   \n160  148            Dragonair  Dragon     NaN    420   61    mid       65   \n383  351             Castform  Normal     NaN    420   70    mid       70   \n\n     Sp. Atk  Sp. Def  Speed  Generation  Legendary  Sum  Equal  Max Deviation  \n261       75      135     55           2      False  540   True          190.0  \n121       35      105     50           1      False  450   True          185.0  \n230       10      230      5           2      False  505   True          160.0  \n333       60       80     50           3      False  630   True          160.0  \n224       55       95     30           2      False  610   True          160.0  \n..       ...      ...    ...         ...        ...  ...    ...            ...  \n10        65       80     58           1      False  405   True           10.0  \n173       59       63     58           2      False  405   True           10.0  \n695       65       70     58           5      False  420   True            7.0  \n160       70       70     70           1      False  420   True            5.0  \n383       70       70     70           3      False  420   True            5.0  \n\n[800 rows x 16 columns]",
      "text/html": "<div>\n<style scoped>\n    .dataframe tbody tr th:only-of-type {\n        vertical-align: middle;\n    }\n\n    .dataframe tbody tr th {\n        vertical-align: top;\n    }\n\n    .dataframe thead th {\n        text-align: right;\n    }\n</style>\n<table border=\"1\" class=\"dataframe\">\n  <thead>\n    <tr style=\"text-align: right;\">\n      <th></th>\n      <th>#</th>\n      <th>Name</th>\n      <th>Type 1</th>\n      <th>Type 2</th>\n      <th>Total</th>\n      <th>HP</th>\n      <th>Attack</th>\n      <th>Defense</th>\n      <th>Sp. Atk</th>\n      <th>Sp. Def</th>\n      <th>Speed</th>\n      <th>Generation</th>\n      <th>Legendary</th>\n      <th>Sum</th>\n      <th>Equal</th>\n      <th>Max Deviation</th>\n    </tr>\n  </thead>\n  <tbody>\n    <tr>\n      <th>261</th>\n      <td>242</td>\n      <td>Blissey</td>\n      <td>Normal</td>\n      <td>NaN</td>\n      <td>540</td>\n      <td>255</td>\n      <td>low</td>\n      <td>10</td>\n      <td>75</td>\n      <td>135</td>\n      <td>55</td>\n      <td>2</td>\n      <td>False</td>\n      <td>540</td>\n      <td>True</td>\n      <td>190.0</td>\n    </tr>\n    <tr>\n      <th>121</th>\n      <td>113</td>\n      <td>Chansey</td>\n      <td>Normal</td>\n      <td>NaN</td>\n      <td>450</td>\n      <td>250</td>\n      <td>low</td>\n      <td>5</td>\n      <td>35</td>\n      <td>105</td>\n      <td>50</td>\n      <td>1</td>\n      <td>False</td>\n      <td>450</td>\n      <td>True</td>\n      <td>185.0</td>\n    </tr>\n    <tr>\n      <th>230</th>\n      <td>213</td>\n      <td>Shuckle</td>\n      <td>Bug</td>\n      <td>Rock</td>\n      <td>505</td>\n      <td>20</td>\n      <td>low</td>\n      <td>230</td>\n      <td>10</td>\n      <td>230</td>\n      <td>5</td>\n      <td>2</td>\n      <td>False</td>\n      <td>505</td>\n      <td>True</td>\n      <td>160.0</td>\n    </tr>\n    <tr>\n      <th>333</th>\n      <td>306</td>\n      <td>AggronMega Aggron</td>\n      <td>Steel</td>\n      <td>NaN</td>\n      <td>630</td>\n      <td>70</td>\n      <td>high</td>\n      <td>230</td>\n      <td>60</td>\n      <td>80</td>\n      <td>50</td>\n      <td>3</td>\n      <td>False</td>\n      <td>630</td>\n      <td>True</td>\n      <td>160.0</td>\n    </tr>\n    <tr>\n      <th>224</th>\n      <td>208</td>\n      <td>SteelixMega Steelix</td>\n      <td>Steel</td>\n      <td>Ground</td>\n      <td>610</td>\n      <td>75</td>\n      <td>high</td>\n      <td>230</td>\n      <td>55</td>\n      <td>95</td>\n      <td>30</td>\n      <td>2</td>\n      <td>False</td>\n      <td>610</td>\n      <td>True</td>\n      <td>160.0</td>\n    </tr>\n    <tr>\n      <th>...</th>\n      <td>...</td>\n      <td>...</td>\n      <td>...</td>\n      <td>...</td>\n      <td>...</td>\n      <td>...</td>\n      <td>...</td>\n      <td>...</td>\n      <td>...</td>\n      <td>...</td>\n      <td>...</td>\n      <td>...</td>\n      <td>...</td>\n      <td>...</td>\n      <td>...</td>\n      <td>...</td>\n    </tr>\n    <tr>\n      <th>10</th>\n      <td>8</td>\n      <td>Wartortle</td>\n      <td>Water</td>\n      <td>NaN</td>\n      <td>405</td>\n      <td>59</td>\n      <td>mid</td>\n      <td>80</td>\n      <td>65</td>\n      <td>80</td>\n      <td>58</td>\n      <td>1</td>\n      <td>False</td>\n      <td>405</td>\n      <td>True</td>\n      <td>10.0</td>\n    </tr>\n    <tr>\n      <th>173</th>\n      <td>159</td>\n      <td>Croconaw</td>\n      <td>Water</td>\n      <td>NaN</td>\n      <td>405</td>\n      <td>65</td>\n      <td>mid</td>\n      <td>80</td>\n      <td>59</td>\n      <td>63</td>\n      <td>58</td>\n      <td>2</td>\n      <td>False</td>\n      <td>405</td>\n      <td>True</td>\n      <td>10.0</td>\n    </tr>\n    <tr>\n      <th>695</th>\n      <td>634</td>\n      <td>Zweilous</td>\n      <td>Dark</td>\n      <td>Dragon</td>\n      <td>420</td>\n      <td>72</td>\n      <td>mid</td>\n      <td>70</td>\n      <td>65</td>\n      <td>70</td>\n      <td>58</td>\n      <td>5</td>\n      <td>False</td>\n      <td>420</td>\n      <td>True</td>\n      <td>7.0</td>\n    </tr>\n    <tr>\n      <th>160</th>\n      <td>148</td>\n      <td>Dragonair</td>\n      <td>Dragon</td>\n      <td>NaN</td>\n      <td>420</td>\n      <td>61</td>\n      <td>mid</td>\n      <td>65</td>\n      <td>70</td>\n      <td>70</td>\n      <td>70</td>\n      <td>1</td>\n      <td>False</td>\n      <td>420</td>\n      <td>True</td>\n      <td>5.0</td>\n    </tr>\n    <tr>\n      <th>383</th>\n      <td>351</td>\n      <td>Castform</td>\n      <td>Normal</td>\n      <td>NaN</td>\n      <td>420</td>\n      <td>70</td>\n      <td>mid</td>\n      <td>70</td>\n      <td>70</td>\n      <td>70</td>\n      <td>70</td>\n      <td>3</td>\n      <td>False</td>\n      <td>420</td>\n      <td>True</td>\n      <td>5.0</td>\n    </tr>\n  </tbody>\n</table>\n<p>800 rows × 16 columns</p>\n</div>"
     },
     "execution_count": 121,
     "metadata": {},
     "output_type": "execute_result"
    }
   ],
   "source": [
    "# 求每个妖怪六项能力的离差，即所有能力中偏离中位数(median（）)最大的值，添加到df并从大到小排序\n",
    "# 按照索引获得中位数\n",
    "stats = [\"HP\", \"Attack\", \"Defense\", \"Sp. Atk\", \"Sp. Def\", \"Speed\"]\n",
    "median = df[stats].median()\n",
    "# 按照行获得中位数的偏移量\n",
    "deviation = df[stats].apply(lambda x: abs(x - median), axis=1)\n",
    "# 按照行获得中位数偏移量的最大值\n",
    "max_deviation = deviation.max(axis=1)\n",
    "df[\"Max Deviation\"] = max_deviation\n",
    "df = df.sort_values(by=\"Max Deviation\", ascending=False)\n",
    "df"
   ],
   "metadata": {
    "collapsed": false,
    "ExecuteTime": {
     "start_time": "2023-04-13T08:48:35.849038Z",
     "end_time": "2023-04-13T08:48:36.646977Z"
    }
   }
  },
  {
   "cell_type": "code",
   "execution_count": 121,
   "outputs": [],
   "source": [],
   "metadata": {
    "collapsed": false,
    "ExecuteTime": {
     "start_time": "2023-04-13T08:48:36.475089Z",
     "end_time": "2023-04-13T08:48:36.648070Z"
    }
   }
  }
 ],
 "metadata": {
  "kernelspec": {
   "display_name": "AILearnByYourself",
   "language": "python",
   "name": "ailearnbyyourself"
  },
  "language_info": {
   "codemirror_mode": {
    "name": "ipython",
    "version": 3
   },
   "file_extension": ".py",
   "mimetype": "text/x-python",
   "name": "python",
   "nbconvert_exporter": "python",
   "pygments_lexer": "ipython3",
   "version": "3.10.9"
  }
 },
 "nbformat": 4,
 "nbformat_minor": 2
}
