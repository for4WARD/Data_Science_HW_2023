{
 "cells": [
  {
   "cell_type": "markdown",
   "metadata": {},
   "source": [
    "### **一、实验目的**\n",
    "\n",
    "Python控制结构和函数编程练习\n",
    "\n",
    "本实验首先安装配置好Anaconda以及Python环境，通过代码编写，从而使同学们熟练掌握条件判断、循环语句和函数使用，并学会将其运用到实践中"
   ]
  },
  {
   "cell_type": "markdown",
   "metadata": {},
   "source": [
    "#### **1. if 语句**\n",
    "\n",
    "```python\n",
    "if expression:\n",
    "    expr_true_suite\n",
    "```\n",
    "    \n",
    "- if 语句的 expr_true_suite 代码块只有当条件表达式 expression 结果为真时才执行，否则将继续执行紧跟在该代码块后面的语句。\n",
    "- 单个 if 语句中的 expression 条件表达式可以通过布尔操作符 and，or和not 实现多重条件判断。\n"
   ]
  },
  {
   "cell_type": "code",
   "execution_count": 3,
   "metadata": {},
   "outputs": [
    {
     "name": "stdout",
     "output_type": "stream",
     "text": [
      "a小于b\n"
     ]
    }
   ],
   "source": [
    "import time\n",
    "\n",
    "a = 1\n",
    "b = 2\n",
    "\n",
    "if a < b:\n",
    "    print('a小于b')"
   ]
  },
  {
   "cell_type": "markdown",
   "metadata": {},
   "source": [
    "#### **2. if - else 语句**\n",
    "\n",
    "```python\n",
    "if expression:\n",
    "    expr_true_suite\n",
    "else:\n",
    "    expr_false_suite\n",
    "```\n",
    "    \n",
    "- Python 提供与 if 搭配使用的 else，如果 if 语句的条件表达式结果布尔值为假，那么程序将执行 else 语句后的代码。\n"
   ]
  },
  {
   "cell_type": "code",
   "execution_count": 5,
   "metadata": {},
   "outputs": [
    {
     "name": "stdout",
     "output_type": "stream",
     "text": [
      "a小于等于b\n"
     ]
    }
   ],
   "source": [
    "a = input(\"输入a的值\")\n",
    "b = input(\"输入b的值\")\n",
    "a = int(a)\n",
    "b = int(b)\n",
    "\n",
    "if a <= b:\n",
    "    print(\"a小于等于b\")\n",
    "else:\n",
    "    print(\"a大于b\")"
   ]
  },
  {
   "cell_type": "markdown",
   "metadata": {},
   "source": [
    "`if`语句支持嵌套，即在一个`if`语句中嵌入另一个`if`语句，从而构成不同层次的选择结构。Python 使用缩进而不是大括号来标记代码块边界，因此要特别注意`else`的悬挂问题。"
   ]
  },
  {
   "cell_type": "code",
   "execution_count": 6,
   "metadata": {},
   "outputs": [
    {
     "name": "stdout",
     "output_type": "stream",
     "text": [
      "hi大于2小于7\n"
     ]
    }
   ],
   "source": [
    "hi = 6\n",
    "if hi > 2:\n",
    "    if hi > 7:\n",
    "        print('hi大于7')\n",
    "    else:\n",
    "        print('hi大于2小于7')\n",
    "else:\n",
    "    print('hi小于2')"
   ]
  },
  {
   "cell_type": "markdown",
   "metadata": {},
   "source": [
    "#### **3. if - elif - else 语句**\n",
    "\n",
    "```python\n",
    "if expression1:\n",
    "    expr1_true_suite\n",
    "elif expression2:\n",
    "    expr2_true_suite\n",
    "elif expressionN:\n",
    "    exprN_true_suite\n",
    "else:\n",
    "    expr_false_suite\n",
    "```\n",
    "\n",
    "- elif 语句即为 else if，用来检查多个表达式是否为真，并在为真时执行特定代码块中的代码。"
   ]
  },
  {
   "cell_type": "code",
   "execution_count": 7,
   "metadata": {},
   "outputs": [
    {
     "name": "stdout",
     "output_type": "stream",
     "text": [
      "D\n"
     ]
    }
   ],
   "source": [
    "temp = input('请输入成绩:')\n",
    "source = int(temp)\n",
    "if 100 >= source >= 90:\n",
    "    print('A')\n",
    "elif 90 > source >= 80:\n",
    "    print('B')\n",
    "elif 80 > source >= 60:\n",
    "    print('C')\n",
    "elif 60 > source >= 0:\n",
    "    print('D')\n",
    "else:\n",
    "    print('输入错误！')"
   ]
  },
  {
   "cell_type": "markdown",
   "metadata": {},
   "source": [
    "#### **4. while 循环**\n",
    "\n",
    "`while`语句最基本的形式包括一个位于顶部的布尔表达式，一个或多个属于`while`代码块的缩进语句。\n",
    "\n",
    "```python\n",
    "while 布尔表达式:\n",
    "    代码块\n",
    "```\n",
    "\n",
    "`while`循环的代码块会一直循环执行，直到布尔表达式的值为布尔假。\n",
    "\n",
    "如果布尔表达式不带有`<、>、==、！=、in、not in`等运算符，仅仅给出数值之类的条件，也是可以的。当`while`后写入一个非零整数时，视为真值，执行循环体；写入`0`时，视为假值，不执行循环体。也可以写入`str、list`或任何序列，长度非零则视为真值，执行循环体；否则视为假值，不执行循环体。"
   ]
  },
  {
   "cell_type": "code",
   "execution_count": 8,
   "metadata": {},
   "outputs": [
    {
     "name": "stdout",
     "output_type": "stream",
     "text": [
      "小了\n",
      "小了\n",
      "小了\n",
      "猜数结束\n"
     ]
    }
   ],
   "source": [
    "import random\n",
    "\n",
    "guess_num = random.randint(0, 10)\n",
    "count = 0\n",
    "while count < 3:\n",
    "    guess = input(\"输入一个0-10之间的整数\")\n",
    "    guess = int(guess)\n",
    "    if guess > guess_num:\n",
    "        print(\"大了\")\n",
    "    else:\n",
    "        if guess == guess_num:\n",
    "            print(\"正确\")\n",
    "            count = 3\n",
    "        else:\n",
    "            print(\"小了\")\n",
    "    count = count + 1\n",
    "print(\"猜数结束\")"
   ]
  },
  {
   "cell_type": "markdown",
   "metadata": {},
   "source": [
    "#### **5. for 循环**\n",
    "\n",
    "`for`循环是迭代循环，在Python中相当于一个通用的序列迭代器，可以遍历任何有序序列，如`str、list、tuple`等，也可以遍历任何可迭代对象，如`dict`。\n",
    "\n",
    "```python\n",
    "for 迭代变量 in 可迭代对象:\n",
    "    代码块\n",
    "```\n",
    "每次循环，迭代变量被设置为可迭代对象的当前元素，提供给代码块使用。"
   ]
  },
  {
   "cell_type": "code",
   "execution_count": 9,
   "metadata": {},
   "outputs": [
    {
     "name": "stdout",
     "output_type": "stream",
     "text": [
      "I L o v e D o t a "
     ]
    }
   ],
   "source": [
    "for i in 'ILoveDota':\n",
    "    print(i, end=' ')  # 不换行输出"
   ]
  },
  {
   "cell_type": "markdown",
   "metadata": {},
   "source": [
    "#### **6. range() 函数**\n",
    "\n",
    "```python\n",
    "range([start,] stop[, step=1])\n",
    "```\n",
    "- 这个BIF（Built-in functions）有三个参数，其中用中括号括起来的两个表示这两个参数是可选的。\n",
    "- `step=1` 表示第三个参数的默认值是1。\n",
    "- `range` 这个BIF的作用是生成一个从`start`参数的值开始到`stop`参数的值结束的数字序列，该序列包含`start`的值但不包含`stop`的值。"
   ]
  },
  {
   "cell_type": "code",
   "execution_count": 10,
   "metadata": {},
   "outputs": [
    {
     "name": "stdout",
     "output_type": "stream",
     "text": [
      "2\n",
      "3\n",
      "4\n",
      "5\n",
      "6\n",
      "7\n",
      "8\n"
     ]
    }
   ],
   "source": [
    "for i in range(2, 9):  # 不包含9,左开右闭\n",
    "    print(i)"
   ]
  },
  {
   "cell_type": "markdown",
   "metadata": {},
   "source": [
    "#### **7. 函数**\n",
    "\n",
    "还记得 Python 里面“万物皆对象”么？Python 把函数也当成对象，可以从另一个函数中返回出来而去构建高阶函数，比如：\n",
    "- 参数是函数 \n",
    "- 返回值是函数\n",
    "\n",
    "\n",
    "#### 函数的定义\n",
    "- 函数以`def`关键词开头，后接函数名和圆括号()。\n",
    "- 函数执行的代码以冒号起始，并且缩进。\n",
    "- return [表达式] 结束函数，选择性地返回一个值给调用方。不带表达式的return相当于返回`None`。\n",
    "\n",
    "\n",
    "```python\n",
    "def functionname(parameters):\n",
    "    \"函数_文档字符串\"\n",
    "    function_suite\n",
    "    return [expression]\n",
    "```"
   ]
  },
  {
   "cell_type": "markdown",
   "metadata": {},
   "source": [
    "#### 函数的调用"
   ]
  },
  {
   "cell_type": "code",
   "execution_count": 11,
   "metadata": {},
   "outputs": [
    {
     "name": "stdout",
     "output_type": "stream",
     "text": [
      "我要调用用户自定义函数!\n",
      "再次调用同一函数\n",
      "hello\n",
      "None\n"
     ]
    }
   ],
   "source": [
    "def printme(str):\n",
    "    print(str)\n",
    "\n",
    "printme(\"我要调用用户自定义函数!\")  # 我要调用用户自定义函数!\n",
    "printme(\"再次调用同一函数\")  # 再次调用同一函数\n",
    "temp = printme('hello') # hello\n",
    "print(temp)  # None"
   ]
  },
  {
   "cell_type": "markdown",
   "metadata": {},
   "source": [
    "#### 函数参数\n",
    "\n",
    "Python 的函数具有非常灵活多样的参数形态，既可以实现简单的调用，又可以传入非常复杂的参数。从简到繁的参数形态如下：\n",
    "- 位置参数 (positional argument)\n",
    "- 默认参数 (default argument)\n",
    "- 可变参数 (variable argument)\n",
    "- 关键字参数 (keyword argument)\n",
    "- 命名关键字参数 (name keyword argument)\n",
    "- 参数组合"
   ]
  },
  {
   "cell_type": "markdown",
   "metadata": {},
   "source": [
    "**1. 位置参数**\n",
    "```python\n",
    "def functionname(arg1):\n",
    "    \"函数_文档字符串\"\n",
    "    function_suite\n",
    "    return [expression]\n",
    "```\n",
    "- `arg1` - 位置参数 ，这些参数在调用函数 (call function) 时位置要固定。\n",
    "\n",
    "**2. 默认参数**\n",
    "\n",
    "```python\n",
    "def functionname(arg1, arg2=v):\n",
    "    \"函数_文档字符串\"\n",
    "    function_suite\n",
    "    return [expression]\n",
    "```\n",
    "- `arg2 = v` - 默认参数 = 默认值，调用函数时，默认参数的值如果没有传入，则被认为是默认值。\n",
    "- 默认参数一定要放在位置参数 <b>后面</b>，不然程序会报错。"
   ]
  },
  {
   "cell_type": "code",
   "execution_count": 12,
   "metadata": {},
   "outputs": [
    {
     "name": "stdout",
     "output_type": "stream",
     "text": [
      "Name:小马,Age:8\n",
      "Name:小马,Age:10\n"
     ]
    }
   ],
   "source": [
    "def printinfo(name, age=8):\n",
    "    print('Name:{0},Age:{1}'.format(name, age))\n",
    "\n",
    "printinfo('小马')  # Name:小马,Age:8\n",
    "printinfo('小马', 10)  # Name:小马,Age:10"
   ]
  },
  {
   "cell_type": "markdown",
   "metadata": {},
   "source": [
    "- Python 允许函数调用时参数的顺序与声明时不一致，因为 Python 解释器能够用参数名匹配参数值。"
   ]
  },
  {
   "cell_type": "code",
   "execution_count": 13,
   "metadata": {},
   "outputs": [
    {
     "name": "stdout",
     "output_type": "stream",
     "text": [
      "Name:小马,Age:8\n"
     ]
    }
   ],
   "source": [
    "def printinfo(name, age):\n",
    "    print('Name:{0},Age:{1}'.format(name, age))\n",
    "\n",
    "printinfo(age=8, name='小马')  # Name:小马,Age:8"
   ]
  },
  {
   "cell_type": "markdown",
   "metadata": {},
   "source": [
    "**3. 可变参数**\n",
    "\n",
    "顾名思义，可变参数就是传入的参数个数是可变的，可以是 0, 1, 2 到任意个，是不定长的参数。\n",
    "\n",
    "```python\n",
    "def functionname(arg1, arg2=v, *args):\n",
    "    \"函数_文档字符串\"\n",
    "    function_suite\n",
    "    return [expression]\n",
    "```\n",
    "- `*args` - 可变参数，可以是从零个到任意个，自动组装成元组。\n",
    "- 加了星号（*）的变量名会存放所有未命名的变量参数。"
   ]
  },
  {
   "cell_type": "code",
   "execution_count": 14,
   "metadata": {},
   "outputs": [
    {
     "name": "stdout",
     "output_type": "stream",
     "text": [
      "10\n",
      "70\n",
      "60\n",
      "50\n"
     ]
    }
   ],
   "source": [
    "def printinfo(arg1, *args):\n",
    "    print(arg1)\n",
    "    for var in args:\n",
    "        print(var)\n",
    "\n",
    "printinfo(10)  # 10\n",
    "printinfo(70, 60, 50)"
   ]
  },
  {
   "cell_type": "markdown",
   "metadata": {},
   "source": [
    "**4. 关键字参数（选看）**\n",
    "\n",
    "```python\n",
    "def functionname(arg1, arg2=v, *args, **kw):\n",
    "    \"函数_文档字符串\"\n",
    "    function_suite\n",
    "    return [expression]\n",
    "```\n",
    "- `**kw` - 关键字参数，可以是从零个到任意个，自动组装成字典。"
   ]
  },
  {
   "cell_type": "code",
   "execution_count": 15,
   "metadata": {},
   "outputs": [
    {
     "name": "stdout",
     "output_type": "stream",
     "text": [
      "70\n",
      "(60, 50)\n",
      "{}\n",
      "----------\n",
      "70\n",
      "(60, 50)\n",
      "{'a': 1, 'b': 2}\n"
     ]
    }
   ],
   "source": [
    "def printinfo(arg1, *args, **kwargs):\n",
    "    print(arg1)\n",
    "    print(args)\n",
    "    print(kwargs)\n",
    "\n",
    "printinfo(70, 60, 50)\n",
    "print('-'*10)\n",
    "printinfo(70, 60, 50, a=1, b=2)"
   ]
  },
  {
   "cell_type": "markdown",
   "metadata": {},
   "source": [
    "「可变参数」和「关键字参数」的同异总结如下：\n",
    "- 可变参数允许传入零个到任意个参数，它们在函数调用时自动组装为一个元组 (tuple)。\n",
    "- 关键字参数允许传入零个到任意个参数，它们在函数内部自动组装为一个字典 (dict)。"
   ]
  },
  {
   "cell_type": "markdown",
   "metadata": {},
   "source": [
    "**5. 命名关键字参数（选看）**\n",
    "```python\n",
    "def functionname(arg1, arg2=v, *args, *, nkw, **kw):\n",
    "    \"函数_文档字符串\"\n",
    "    function_suite\n",
    "    return [expression]\n",
    "```\n",
    "- `*, nkw` - 命名关键字参数，用户想要输入的关键字参数，定义方式是在nkw 前面加个分隔符 *。\n",
    "- 如果要限制关键字参数的名字，就可以用「命名关键字参数」\n",
    "- 使用命名关键字参数时，要特别注意不能缺少参数名。"
   ]
  },
  {
   "cell_type": "code",
   "execution_count": 16,
   "metadata": {},
   "outputs": [
    {
     "name": "stdout",
     "output_type": "stream",
     "text": [
      "70\n",
      "10\n",
      "{'a': 1, 'b': 2}\n",
      "----------\n"
     ]
    },
    {
     "ename": "TypeError",
     "evalue": "printinfo() takes 1 positional argument but 2 were given",
     "output_type": "error",
     "traceback": [
      "\u001B[1;31m---------------------------------------------------------------------------\u001B[0m",
      "\u001B[1;31mTypeError\u001B[0m                                 Traceback (most recent call last)",
      "\u001B[1;32m~\\AppData\\Local\\Temp\\ipykernel_32440\\3361054376.py\u001B[0m in \u001B[0;36m<module>\u001B[1;34m\u001B[0m\n\u001B[0;32m      6\u001B[0m \u001B[0mprintinfo\u001B[0m\u001B[1;33m(\u001B[0m\u001B[1;36m70\u001B[0m\u001B[1;33m,\u001B[0m \u001B[0mnkw\u001B[0m\u001B[1;33m=\u001B[0m\u001B[1;36m10\u001B[0m\u001B[1;33m,\u001B[0m \u001B[0ma\u001B[0m\u001B[1;33m=\u001B[0m\u001B[1;36m1\u001B[0m\u001B[1;33m,\u001B[0m \u001B[0mb\u001B[0m\u001B[1;33m=\u001B[0m\u001B[1;36m2\u001B[0m\u001B[1;33m)\u001B[0m\u001B[1;33m\u001B[0m\u001B[1;33m\u001B[0m\u001B[0m\n\u001B[0;32m      7\u001B[0m \u001B[0mprint\u001B[0m\u001B[1;33m(\u001B[0m\u001B[1;34m'-'\u001B[0m\u001B[1;33m*\u001B[0m\u001B[1;36m10\u001B[0m\u001B[1;33m)\u001B[0m\u001B[1;33m\u001B[0m\u001B[1;33m\u001B[0m\u001B[0m\n\u001B[1;32m----> 8\u001B[1;33m \u001B[0mprintinfo\u001B[0m\u001B[1;33m(\u001B[0m\u001B[1;36m70\u001B[0m\u001B[1;33m,\u001B[0m \u001B[1;36m10\u001B[0m\u001B[1;33m,\u001B[0m \u001B[0ma\u001B[0m\u001B[1;33m=\u001B[0m\u001B[1;36m1\u001B[0m\u001B[1;33m,\u001B[0m \u001B[0mb\u001B[0m\u001B[1;33m=\u001B[0m\u001B[1;36m2\u001B[0m\u001B[1;33m)\u001B[0m\u001B[1;33m\u001B[0m\u001B[1;33m\u001B[0m\u001B[0m\n\u001B[0m",
      "\u001B[1;31mTypeError\u001B[0m: printinfo() takes 1 positional argument but 2 were given"
     ]
    }
   ],
   "source": [
    "def printinfo(arg1, *, nkw, **kwargs):\n",
    "    print(arg1)\n",
    "    print(nkw)\n",
    "    print(kwargs)\n",
    "\n",
    "printinfo(70, nkw=10, a=1, b=2)\n",
    "print('-'*10)\n",
    "printinfo(70, 10, a=1, b=2)"
   ]
  },
  {
   "cell_type": "markdown",
   "metadata": {},
   "source": [
    "- 没有写参数名`nwk`，因此 10 被当成「位置参数」，而原函数只有 1 个位置函数，现在调用了 2 个，因此程序会报错。"
   ]
  },
  {
   "cell_type": "markdown",
   "metadata": {},
   "source": [
    "**6. 参数组合**\n",
    "\n",
    "在 Python 中定义函数，可以用位置参数、默认参数、可变参数、命名关键字参数和关键字参数，这 5 种参数中的 4 个都可以一起使用，但是注意，参数定义的顺序必须是：\n",
    "- 位置参数、默认参数、可变参数和关键字参数。\n",
    "- 位置参数、默认参数、命名关键字参数和关键字参数。\n",
    "\n",
    "要注意定义可变参数和关键字参数的语法：\n",
    "- `*args` 是可变参数，`args` 接收的是一个 `tuple`\n",
    "- `**kw` 是关键字参数，`kw` 接收的是一个 `dict`\n",
    "\n",
    "命名关键字参数是为了限制调用者可以传入的参数名，同时可以提供默认值。定义命名关键字参数不要忘了写分隔符 `*`，否则定义的是位置参数。\n",
    "\n",
    "警告：虽然可以组合多达 5 种参数，但不要同时使用太多的组合，否则函数很难懂。\n"
   ]
  },
  {
   "cell_type": "markdown",
   "metadata": {},
   "source": [
    "#### 函数的返回值"
   ]
  },
  {
   "cell_type": "code",
   "execution_count": 17,
   "metadata": {},
   "outputs": [
    {
     "name": "stdout",
     "output_type": "stream",
     "text": [
      "3\n",
      "[1, 2, 3, 4, 5, 6]\n"
     ]
    }
   ],
   "source": [
    "def add(a, b):\n",
    "    return a + b\n",
    "\n",
    "print(add(1, 2))  # 3\n",
    "print(add([1, 2, 3], [4, 5, 6]))  # [1, 2, 3, 4, 5, 6]"
   ]
  },
  {
   "cell_type": "code",
   "execution_count": 18,
   "metadata": {},
   "outputs": [
    {
     "name": "stdout",
     "output_type": "stream",
     "text": [
      "[1, '小马的程序人生', 3.14]\n"
     ]
    }
   ],
   "source": [
    "def back():\n",
    "    return [1, '小马的程序人生', 3.14]\n",
    "\n",
    "print(back())  # [1, '小马的程序人生', 3.14]"
   ]
  },
  {
   "cell_type": "code",
   "execution_count": 19,
   "metadata": {},
   "outputs": [
    {
     "name": "stdout",
     "output_type": "stream",
     "text": [
      "(1, '小马的程序人生', 3.14)\n"
     ]
    }
   ],
   "source": [
    "def back():\n",
    "    return 1, '小马的程序人生', 3.14\n",
    "\n",
    "print(back())  # (1, '小马的程序人生', 3.14)"
   ]
  },
  {
   "cell_type": "code",
   "execution_count": 20,
   "metadata": {},
   "outputs": [
    {
     "name": "stdout",
     "output_type": "stream",
     "text": [
      "hello\n",
      "None\n",
      "<class 'NoneType'>\n"
     ]
    }
   ],
   "source": [
    "def printme(str):\n",
    "    print(str)\n",
    "\n",
    "temp = printme('hello') # hello\n",
    "print(temp) # None\n",
    "print(type(temp))  # <class 'NoneType'>"
   ]
  },
  {
   "cell_type": "markdown",
   "metadata": {},
   "source": [
    "#### 变量作用域\n",
    "\n",
    "- Python 中，程序的变量并不是在哪个位置都可以访问的，访问权限决定于这个变量是在哪里赋值的。\n",
    "- 定义在函数内部的变量拥有局部作用域，该变量称为局部变量。\n",
    "- 定义在函数外部的变量拥有全局作用域，该变量称为全局变量。\n",
    "- 局部变量只能在其被声明的函数内部访问，而全局变量可以在整个程序范围内访问。"
   ]
  },
  {
   "cell_type": "code",
   "execution_count": 21,
   "metadata": {},
   "outputs": [
    {
     "name": "stdout",
     "output_type": "stream",
     "text": [
      "打折后价格是:90.00\n"
     ]
    }
   ],
   "source": [
    "def discounts(price, rate):\n",
    "    final_price = price * rate\n",
    "    return final_price\n",
    "\n",
    "\n",
    "old_price = float(input('请输入原价:'))  # 98\n",
    "rate = float(input('请输入折扣率:'))  # 0.9\n",
    "new_price = discounts(old_price, rate)\n",
    "print('打折后价格是:%.2f' % new_price)  # 88.20"
   ]
  },
  {
   "cell_type": "markdown",
   "metadata": {},
   "source": [
    "- 当内部作用域想修改外部作用域的变量时，就要用到`global`和`nonlocal`关键字了。"
   ]
  },
  {
   "cell_type": "code",
   "execution_count": 22,
   "metadata": {},
   "outputs": [
    {
     "name": "stdout",
     "output_type": "stream",
     "text": [
      "1\n",
      "123\n",
      "123\n"
     ]
    }
   ],
   "source": [
    "num = 1\n",
    "\n",
    "def fun1():\n",
    "    global num  # 需要使用 global 关键字声明\n",
    "    print(num)  # 1\n",
    "    num = 123\n",
    "    print(num)  # 123\n",
    "\n",
    "fun1()\n",
    "print(num)  # 123"
   ]
  },
  {
   "cell_type": "markdown",
   "metadata": {},
   "source": [
    "### **二、实验平台**\n",
    "\n",
    "1）操作系统：Windows10；\n",
    "\n",
    "2）Anaconda 版本：5.3.0； \n",
    "\n",
    "3）Python 版本：3.6.8；"
   ]
  },
  {
   "cell_type": "markdown",
   "metadata": {},
   "source": [
    "### **三、实验内容**\n",
    "\n",
    "寻找第n个默尼森数\n",
    "\n",
    "**代码格式**\n",
    "\n",
    "```python\n",
    "def prime(num):\n",
    "    ... \n",
    "def monisen(no):\n",
    "    ...  ...\n",
    "    return xxx \n",
    "if __name__ =='__main__':\n",
    "    for i in range(4):\n",
    "        print(monisen(int(input())))\n",
    "\n",
    "```"
   ]
  },
  {
   "cell_type": "markdown",
   "metadata": {},
   "source": [
    "**题目内容：**\n",
    "\n",
    "找第n个默尼森数。P是素数且M也是素数，并且满足等式M=2^P-1，则称M为默尼森数。例如，P=5，M=2^P-1=31，5和31都是素数，因此31是默尼森数。\n",
    "\n",
    "**输入格式:**\n",
    "\n",
    "按助教提示用input()函数输入\n",
    "\n",
    "**输出格式：**\n",
    "\n",
    "int类型\n",
    "\n",
    "**输入样例：**\n",
    "\n",
    "4\n",
    "\n",
    "**输出样例：**\n",
    "\n",
    "127\n"
   ]
  },
  {
   "cell_type": "markdown",
   "metadata": {},
   "source": [
    "### **四、实验要求**\n",
    "\n",
    "实验要求大家结合课上所学知识，按照题目内容自行使用python编码。\n",
    "\n",
    "考查方式：助教提供输入，现场运行代码并给助教看运行结果，向助教解释程序逻辑，助教提问有关实验的相关问题。"
   ]
  },
  {
   "cell_type": "markdown",
   "metadata": {},
   "source": [
    "### **Coding**"
   ]
  },
  {
   "cell_type": "code",
   "execution_count": 23,
   "metadata": {},
   "outputs": [
    {
     "name": "stdout",
     "output_type": "stream",
     "text": [
      "524287\n",
      "4.515029668807983\n",
      "131071\n",
      "1.1561222076416016\n",
      "2147483647\n",
      "1.3020920753479004\n",
      "131071\n",
      "2.0916786193847656\n"
     ]
    }
   ],
   "source": [
    "import time\n",
    "def prime(num):\n",
    "    if num==2:\n",
    "        return True\n",
    "    i=2\n",
    "    while pow(i,2)<=num:\n",
    "        if num%i!=0:\n",
    "            i+=1\n",
    "        else:\n",
    "            return False\n",
    "    return True\n",
    "def monisen(no):\n",
    "    i=0\n",
    "    j=2\n",
    "    while i<no:\n",
    "        if prime(j) and prime(pow(2,j)-1):\n",
    "            j+=1\n",
    "            i+=1\n",
    "        else:\n",
    "            j+=1\n",
    "    return pow(2,j-1)-1\n",
    "if __name__ =='__main__':\n",
    "    for i in range(4):\n",
    "        time_s=time.time()\n",
    "        print(monisen(int(input())))\n",
    "        time_e=time.time()\n",
    "        print(time_e-time_s)\n"
   ]
  },
  {
   "cell_type": "code",
   "execution_count": null,
   "outputs": [],
   "source": [
    "# import time\n",
    "#\n",
    "# def monisen(no):\n",
    "#     set2 = {2}\n",
    "#     set1 = {2}\n",
    "#     for i in range(2, 100001):\n",
    "#         if i not in set1:\n",
    "#             set2.add(i)\n",
    "#         for j in set2:\n",
    "#             set1.add(j*i)\n",
    "#             if i % j == 0:\n",
    "#                 break\n",
    "#     j=0\n",
    "#     for i in set2:\n",
    "#         if (pow(2,i)-1) in set2:\n",
    "#             j+=1\n",
    "#         if j==no:\n",
    "#             ans=pow(2,i)-1\n",
    "#             return ans\n",
    "#\n",
    "#\n",
    "# if __name__ == '__main__':\n",
    "#     for i in range(4):\n",
    "#         time_s=time.time()\n",
    "#         print(monisen(int(input())))\n",
    "#         time_e=time.time()\n",
    "#         print(time_e-time_s)\n"
   ],
   "metadata": {
    "collapsed": false
   }
  },
  {
   "cell_type": "code",
   "execution_count": null,
   "outputs": [],
   "source": [
    "import time\n",
    "import taichi as ti\n",
    "\n",
    "ti.init(arch=ti.gpu)\n",
    "\n",
    "@ti.kernel\n",
    "def calc_pi() -> ti.f32:\n",
    "    sum = 0.0\n",
    "    for i in range(66666666):\n",
    "        n = 2 * i + 1\n",
    "        sum += pow(-1.0, i) / n\n",
    "    return sum * 4\n",
    "\n",
    "\n",
    "t0 = time.time()\n",
    "print('PI =', calc_pi())\n",
    "t1 = time.time()\n",
    "print(f'{t1 - t0:.3} sec')"
   ],
   "metadata": {
    "collapsed": false
   }
  },
  {
   "cell_type": "code",
   "execution_count": null,
   "outputs": [],
   "source": [
    "import time\n",
    "\n",
    "def calc_pi():\n",
    "    sum = 0.0\n",
    "    for i in range(66666666):\n",
    "        n = 2 * i + 1\n",
    "        sum += pow(-1.0, i) / n\n",
    "    return sum * 4\n",
    "\n",
    "\n",
    "t0 = time.time()\n",
    "print('PI =', calc_pi())\n",
    "t1 = time.time()\n",
    "print(f'{t1 - t0:.3} sec')"
   ],
   "metadata": {
    "collapsed": false
   }
  },
  {
   "cell_type": "code",
   "execution_count": 24,
   "outputs": [
    {
     "name": "stdout",
     "output_type": "stream",
     "text": [
      "[Taichi] version 1.4.1, llvm 15.0.1, commit e67c674e, win, python 3.9.13\n",
      "[Taichi] Starting on arch=cuda\n",
      "524287\n",
      "4.928321123123169\n",
      "2147483647\n",
      "1.6067008972167969\n",
      "131071\n",
      "1.1135776042938232\n",
      "131071\n",
      "1.1872835159301758\n"
     ]
    }
   ],
   "source": [
    "import time\n",
    "import taichi as ti\n",
    "ti.init(arch=ti.gpu)\n",
    "@ti.func\n",
    "def prime(n: int):\n",
    "    result = True\n",
    "    for k in range(2, int(n**0.5) + 1):\n",
    "        if n % k == 0:\n",
    "            result = False\n",
    "            break\n",
    "    return result\n",
    "@ti.kernel\n",
    "def monisen(no:int)->int:\n",
    "    i=0\n",
    "    j=2\n",
    "    ans=0\n",
    "    while i<no:\n",
    "        temp=pow(2,j)-1\n",
    "        if prime(j) and prime(temp):\n",
    "            j+=1\n",
    "            i+=1\n",
    "        else:\n",
    "            j+=1\n",
    "    ans=pow(2,j-1)-1\n",
    "    return ans\n",
    "if __name__ =='__main__':\n",
    "    for i in range(4):\n",
    "        time_s=time.time()\n",
    "        print(monisen(int(input())))\n",
    "        time_e=time.time()\n",
    "        print(time_e-time_s)\n",
    "\n"
   ],
   "metadata": {
    "collapsed": false
   }
  },
  {
   "cell_type": "code",
   "execution_count": null,
   "outputs": [],
   "source": [],
   "metadata": {
    "collapsed": false
   }
  },
  {
   "cell_type": "code",
   "execution_count": null,
   "outputs": [],
   "source": [],
   "metadata": {
    "collapsed": false
   }
  }
 ],
 "metadata": {
  "kernelspec": {
   "display_name": "Python 3",
   "language": "python",
   "name": "python3"
  },
  "language_info": {
   "codemirror_mode": {
    "name": "ipython",
    "version": 3
   },
   "file_extension": ".py",
   "mimetype": "text/x-python",
   "name": "python",
   "nbconvert_exporter": "python",
   "pygments_lexer": "ipython3",
   "version": "3.7.0"
  }
 },
 "nbformat": 4,
 "nbformat_minor": 4
}
